{
 "cells": [
  {
   "cell_type": "markdown",
   "metadata": {},
   "source": [
    "# 08. Conference Top Referenced Venues     "
   ]
  },
  {
   "cell_type": "code",
   "execution_count": null,
   "metadata": {},
   "outputs": [],
   "source": [
    "from pyspark import SparkContext\n",
    "from pyspark.sql import SparkSession, Window\n",
    "from pyspark.sql.types import *\n",
    "import pyspark.sql.functions as sf\n",
    "\n",
    "\n",
    "rootpath = 'wasbs://mag-2018-09-27@magtrainingsource.blob.core.windows.net/mag/'\n",
    "outputDir = '/output/jiaxin/pyspark/'\n",
    "conferenceShortName = 'WWW'\n",
    "conferenceAnalyticsBaseDir = '/output/conferenceAnalytics/'"
   ]
  },
  {
   "cell_type": "code",
   "execution_count": null,
   "metadata": {},
   "outputs": [],
   "source": [
    "sc = SparkContext.getOrCreate()\n",
    "spark = SparkSession(sc)"
   ]
  },
  {
   "cell_type": "code",
   "execution_count": null,
   "metadata": {},
   "outputs": [],
   "source": [
    "# The visualization can join against this table to get venue information. \n",
    "ConferenceSeries = spark.read.load(rootpath + \"ConferenceSeries.txt\", format=\"csv\", sep=\"\\t\") \\\n",
    ".toDF(\"ConferenceSeriesId\", \"Rank\", \"NormalizedName\", \"DisplayName\", \"PaperCount\", \"CitationCount\", \"CreatedDate\") \\\n",
    ".selectExpr(\"ConferenceSeriesId as VenueId\", \"NormalizedName as VenueShortName\", \"DisplayName as VenueName\")\n",
    "\n",
    "Journals = spark.read.load(rootpath + \"Journals.txt\", format=\"csv\", sep=\"\\t\") \\\n",
    ".toDF(\"JournalId\", \"Rank\", \"NormalizedName\", \"DisplayName\", \"Issn\", \"Publisher\", \"Webpage\", \"PaperCount\", \"CitationCount\", \"CreatedDate\") \\\n",
    ".selectExpr(\"JournalId as VenueId\", \"NormalizedName as VenueShortName\", \"DisplayName as VenueName\")\n",
    "\n",
    "venues = ConferenceSeries.union(Journals)\n",
    "\n",
    "venues.write.csv(outputDir + \"venues.csv\", mode='overwrite', header='true')"
   ]
  },
  {
   "cell_type": "code",
   "execution_count": null,
   "metadata": {},
   "outputs": [],
   "source": [
    "# First find the conference series id by matching conference short name.\n",
    "targetConferenceSeriesId = ConferenceSeries.where(sf.col(\"NormalizedName\").isin(conferenceShortName)) \\\n",
    ".select(\"ConferenceSeriesId\")\n",
    "\n",
    "\n",
    "# Get all conference papers by conference series Id.\n",
    "Papers = spark.read.load(rootpath + \"Papers.txt\", format=\"csv\", sep=\"\\t\") \\\n",
    ".toDF(\"PaperId\", \"Rank\", \"Doi\", \"DocType\", \"PaperTitle\", \"OriginalTitle\", \"BookTitle\", \n",
    "      \"Year\", \"Date\", \"Publisher\", \"JournalId\", \"ConferenceSeriesId\", \"ConferenceInstanceId\", \n",
    "      \"Volume\", \"Issue\", \"FirstPage\", \"LastPage\", \"ReferenceCount\", \"CitationCount\", \n",
    "      \"EstimatedCitationCount\", \"CreatedDate\")\n",
    "\n",
    "conferencePapers = Papers.join(targetConferenceSeriesId, \"ConferenceSeriesId\", 'inner') \\\n",
    ".selectExpr(\"PaperId\", \"Year\", \"ConferenceSeriesId as VenueId\")\n",
    "\n",
    "\n",
    "# Get all reference from [Conference Paper] -> [Other Paper]\n",
    "PaperReference = spark.read.load(rootpath + \"PaperReferences.txt\", format=\"csv\", sep=\"\\t\") \\\n",
    ".toDF(\"PaperId\", \"PaperReferenceId\")\n",
    "\n",
    "conferencePaperReferences = conferencePapers.join(PaperReference, \"PaperId\", 'inner')\n",
    "\n",
    "Papers1 = Papers.selectExpr(\"PaperId as ReferenceId\", \"Year as ReferenceYear\")\n",
    "\n",
    "conferencePaperReferences =  Papers1.join(conferencePaperReferences, Papers1.ReferenceId == conferencePaperReferences.PaperReferenceId, 'inner') \\\n",
    ".select(\"PaperId\", \"Year\", \"VenueId\", \"ReferenceId\", \"ConferenceSeriesId\")\n",
    "\n",
    "\n",
    "# Count number of references between conference and referenced conference\n",
    "conferencePaperReferenceByVenues = conferencePaperReferences.groupby(\"VenueId\", \"ReferenceVenueId\") \\\n",
    ".agg(sf.count(\"*\")) \\\n",
    ".withColumnRenamed(\"count\", \"ReferenceCount\")\n",
    "\n",
    "\n",
    "conferencePaperReferenceByVenues.write.csv(outputDir + \"conferencePaperReferenceByVenues.csv\", mode='overwrite', header='true')"
   ]
  },
  {
   "cell_type": "code",
   "execution_count": null,
   "metadata": {},
   "outputs": [],
   "source": [
    "# For each yeah of conference, count number of references between conference and referenced conference\n",
    "conferencePaperReferenceByYearsReferenceVenues = conferencePaperReferences.groupby(\"Year\", \"ReferenceVenueId\") \\\n",
    ".agg(sf.count(\"*\")) \\\n",
    ".withColumnRenamed(\"count\", \"ReferenceCount\")\n",
    "        \n",
    "\n",
    "conferencePaperReferences.write.csv(outputDir + \"conferencePaperReferences.csv\", mode='overwrite', header='true')"
   ]
  },
  {
   "cell_type": "code",
   "execution_count": null,
   "metadata": {},
   "outputs": [],
   "source": [
    "sc.stop()"
   ]
  }
 ],
 "metadata": {
  "kernelspec": {
   "display_name": "Python 3",
   "language": "python",
   "name": "python3"
  },
  "language_info": {
   "codemirror_mode": {
    "name": "ipython",
    "version": 3
   },
   "file_extension": ".py",
   "mimetype": "text/x-python",
   "name": "python",
   "nbconvert_exporter": "python",
   "pygments_lexer": "ipython3",
   "version": "3.7.0"
  }
 },
 "nbformat": 4,
 "nbformat_minor": 2
}
