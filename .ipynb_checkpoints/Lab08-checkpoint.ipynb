{
 "cells": [
  {
   "cell_type": "markdown",
   "metadata": {},
   "source": [
    "# 08. Conference Top Referenced Venues     "
   ]
  },
  {
   "cell_type": "code",
   "execution_count": null,
   "metadata": {},
   "outputs": [],
   "source": [
    "from pyspark import SparkContext\n",
    "from pyspark.sql import SparkSession, Window\n",
    "from pyspark.sql.types import *\n",
    "import pyspark.sql.functions as sf\n",
    "\n",
    "\n",
    "rootpath = 'wasbs://mag-2018-09-27@magtrainingsource.blob.core.windows.net/mag/'\n",
    "outputDir = '/output/jiaxin/pyspark/'\n",
    "conferenceShortName = 'WWW'\n",
    "conferenceAnalyticsBaseDir = '/output/conferenceAnalytics/'"
   ]
  },
  {
   "cell_type": "code",
   "execution_count": null,
   "metadata": {},
   "outputs": [],
   "source": [
    "sc = SparkContext.getOrCreate()\n",
    "spark = SparkSession(sc)"
   ]
  },
  {
   "cell_type": "code",
   "execution_count": null,
   "metadata": {},
   "outputs": [],
   "source": [
    "# The visualization can join against this table to get venue information. \n",
    "ConferenceSeries = spark.read.load(rootpath + \"ConferenceSeries.txt\", format=\"csv\", sep=\"\\t\") \\\n",
    ".toDF(\"ConferenceSeriesId\", \"Rank\", \"NormalizedName\", \"DisplayName\", \"PaperCount\", \"CitationCount\", \"CreatedDate\") \\\n",
    ".selectExpr(\"ConferenceSeriesId as VenueId\", \"NormalizedName as VenueShortName\", \"DisplayName as VenueName\")\n",
    "\n",
    "Journals = spark.read.load(rootpath + \"Journals.txt\", format=\"csv\", sep=\"\\t\") \\\n",
    ".toDF(\"JournalId\", \"Rank\", \"NormalizedName\", \"DisplayName\", \"Issn\", \"Publisher\", \"Webpage\", \"PaperCount\", \"CitationCount\", \"CreatedDate\") \\\n",
    ".selectExpr(\"JournalId as VenueId\", \"NormalizedName as VenueShortName\", \"DisplayName as VenueName\")\n",
    "\n",
    "venues = ConferenceSeries.union(Journals)\n",
    "\n",
    "venues.write.csv(outputDir + \"venues.csv\", mode='overwrite', header='true')"
   ]
  },
  {
   "cell_type": "code",
   "execution_count": null,
   "metadata": {},
   "outputs": [],
   "source": [
    "# First find the conference series id by matching conference short name.\n",
    "\n",
    "@targetConferenceSeriesId =\n",
    "    SELECT (long?) ConferenceSeriesId AS ConferenceSeriesId //Cast long to long? to join against Paper table\n",
    "    FROM ConferenceSeries\n",
    "    WHERE NormalizedName == @conferenceShortName;\n",
    "\n",
    "\n",
    "# Get all conference papers by conference series Id.\n",
    "\n",
    "@conferencePapers =\n",
    "    SELECT Papers.PaperId,\n",
    "           Papers.Year,\n",
    "           Papers.ConferenceSeriesId AS VenueId\n",
    "\n",
    "    FROM Papers\n",
    "         INNER JOIN\n",
    "             @targetConferenceSeriesId\n",
    "         ON Papers.ConferenceSeriesId == @targetConferenceSeriesId.ConferenceSeriesId;\n",
    "\n",
    " \n",
    "\n",
    "# Get all reference from [Conference Paper] -> [Other Paper]\n",
    "\n",
    "@conferencePaperReferences =\n",
    "    SELECT @conferencePapers.PaperId,\n",
    "           @conferencePapers.Year,\n",
    "           @conferencePapers.VenueId,\n",
    "           Papers.PaperId AS ReferenceId,\n",
    "           //A single paper may be published in conference and in a journal later.\n",
    "           //Use conference as its venue if present otherwise, journal\n",
    "           Papers.ConferenceSeriesId == null ? JournalId : ConferenceSeriesId AS ReferenceVenueId\n",
    "\n",
    "    FROM Papers\n",
    "         INNER JOIN\n",
    "             PaperReferences\n",
    "         ON Papers.PaperId == PaperReferences.PaperReferenceId\n",
    "         INNER JOIN\n",
    "             @conferencePapers\n",
    "         ON PaperReferences.PaperId == @conferencePapers.PaperId;\n",
    "\n",
    "\n",
    "\n",
    "# Count number of references between conference and referenced conference\n",
    "\n",
    "@conferencePaperReferenceByVenues =\n",
    "    SELECT @conferencePaperReferences.VenueId,\n",
    "           @conferencePaperReferences.ReferenceVenueId,\n",
    "           COUNT( * ) AS ReferenceCount\n",
    "\n",
    "    FROM @conferencePaperReferences\n",
    "\n",
    "    GROUP BY @conferencePaperReferences.VenueId,\n",
    "             @conferencePaperReferences.ReferenceVenueId;\n",
    "\n",
    "\n",
    "conferencePaperReferenceByVenues.write.csv(outputDir + \"conferencePaperReferenceByVenues.csv\", mode='overwrite', header='true')"
   ]
  },
  {
   "cell_type": "code",
   "execution_count": null,
   "metadata": {},
   "outputs": [],
   "source": [
    "# For each yeah of conference, count number of references between conference and referenced conference\n",
    "\n",
    "@conferencePaperReferenceByYearsReferenceVenues =\n",
    "    SELECT @conferencePaperReferences.Year,\n",
    "           @conferencePaperReferences.ReferenceVenueId,\n",
    "           COUNT( * ) AS ReferenceCount\n",
    "\n",
    "    FROM @conferencePaperReferences\n",
    "\n",
    "    GROUP BY @conferencePaperReferences.Year,\n",
    "             @conferencePaperReferences.ReferenceVenueId;\n",
    "        \n",
    "\n",
    "conferencePaperReferences.write.csv(outputDir + \"conferencePaperReferences.csv\", mode='overwrite', header='true')"
   ]
  },
  {
   "cell_type": "code",
   "execution_count": null,
   "metadata": {},
   "outputs": [],
   "source": [
    "sc.stop()"
   ]
  }
 ],
 "metadata": {
  "kernelspec": {
   "display_name": "Python 3",
   "language": "python",
   "name": "python3"
  },
  "language_info": {
   "codemirror_mode": {
    "name": "ipython",
    "version": 3
   },
   "file_extension": ".py",
   "mimetype": "text/x-python",
   "name": "python",
   "nbconvert_exporter": "python",
   "pygments_lexer": "ipython3",
   "version": "3.7.0"
  }
 },
 "nbformat": 4,
 "nbformat_minor": 2
}
