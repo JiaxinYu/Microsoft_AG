{
 "cells": [
  {
   "cell_type": "markdown",
   "metadata": {},
   "source": [
    "# 04. Conference Top Papers   "
   ]
  },
  {
   "cell_type": "code",
   "execution_count": null,
   "metadata": {},
   "outputs": [],
   "source": [
    "from pyspark import SparkContext\n",
    "from pyspark.sql import SparkSession, Window\n",
    "from pyspark.sql.types import *\n",
    "import pyspark.sql.functions as sf\n",
    "\n",
    "\n",
    "rootpath = 'wasbs://mag-2018-09-27@magtrainingsource.blob.core.windows.net/mag/'\n",
    "outputDir = '/output/user99/pyspark/'\n",
    "conferenceShortName = 'WWW'\n",
    "conferenceTopPapersCount = 20\n",
    "maDetailPagePrefix = 'https://academic.microsoft.com/#/detail/'"
   ]
  },
  {
   "cell_type": "code",
   "execution_count": null,
   "metadata": {},
   "outputs": [],
   "source": [
    "# start Spark context\n",
    "sc = SparkContext.getOrCreate()\n",
    "spark = SparkSession(sc)\n",
    "\n",
    "\n",
    "# First find the conference series id by matching conference short name\n",
    "targetConferenceSeriesId = spark.read.load(rootpath + \"ConferenceSeries.txt\", format=\"csv\", sep=\"\\t\") \\\n",
    ".toDF(\"ConferenceSeriesId\", \"Rank\", \"NormalizedName\", \"DisplayName\", \"PaperCount\", \n",
    "      \"CitationCount\", \"CreatedDate\") \\\n",
    ".where(sf.col(\"NormalizedName\").isin(conferenceShortName)) \\\n",
    ".select(\"ConferenceSeriesId\")\n",
    "\n",
    "\n",
    "# Get all conference papers by conference series Id\n",
    "conferencePapers = spark.read.load(rootpath + \"Papers.txt\", format=\"csv\", sep=\"\\t\") \\\n",
    ".toDF(\"PaperId\", \"Rank\", \"Doi\", \"DocType\", \"PaperTitle\", \"OriginalTitle\", \"BookTitle\", \n",
    "      \"Year\", \"Date\", \"Publisher\", \"JournalId\", \"ConferenceSeriesId\", \"ConferenceInstanceId\", \n",
    "      \"Volume\", \"Issue\", \"FirstPage\", \"LastPage\", \"ReferenceCount\", \"CitationCount\", \n",
    "      \"EstimatedCitationCount\", \"CreatedDate\") \\\n",
    ".join(targetConferenceSeriesId, \"ConferenceSeriesId\", 'inner') \\\n",
    ".select(\"PaperId\", \"OriginalTitle\", \"Year\", \"CitationCount\", \"EstimatedCitationCount\")\n",
    "## Will use estimated citation count to select top papers\n",
    "\n",
    "\n",
    "# Select top conference papers based on estimated citation count\n",
    "## Microsoft Academic's entity detail page for given entity id\n",
    "conferenceTopPapers = conferencePapers.select(\"*\") \\\n",
    ".withColumn(\"DetailsUrl\", sf.concat(sf.lit(maDetailPagePrefix), \"PaperId\")) \\\n",
    ".orderBy(\"EstimatedCitationCount\", ascending=False) \\\n",
    ".select(\"DetailsUrl\", \"OriginalTitle\", \"Year\", \"CitationCount\", \"EstimatedCitationCount\")\n",
    "\n",
    "\n",
    "# Save results\n",
    "conferenceTopPapers.write.csv(outputDir + \"conferenceTopPapers.csv\", mode='overwrite', header='true')\n",
    "\n",
    "\n",
    "# Stop Spark context\n",
    "sc.stop()"
   ]
  }
 ],
 "metadata": {
  "kernelspec": {
   "display_name": "Python 3",
   "language": "python",
   "name": "python3"
  },
  "language_info": {
   "codemirror_mode": {
    "name": "ipython",
    "version": 3
   },
   "file_extension": ".py",
   "mimetype": "text/x-python",
   "name": "python",
   "nbconvert_exporter": "python",
   "pygments_lexer": "ipython3",
   "version": "3.7.0"
  }
 },
 "nbformat": 4,
 "nbformat_minor": 2
}
