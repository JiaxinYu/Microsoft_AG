{
 "cells": [
  {
   "cell_type": "markdown",
   "metadata": {},
   "source": [
    "# 02. Conference Top Authors By Static Rank    \n",
    "\n",
    "1. First find the conference series id by matching conference short name  \n",
    "1. Get all conference papers by conference series Id  \n",
    "1. Get all [conference paper] -> [conference author] relationships  \n",
    "1. Aggregate static rank and publication for each author  \n",
    "1. Create two ranks based on different methods to display on the x and y axis for comparison  "
   ]
  },
  {
   "cell_type": "code",
   "execution_count": null,
   "metadata": {},
   "outputs": [],
   "source": [
    "from pyspark import SparkContext\n",
    "from pyspark.sql import SparkSession\n",
    "from pyspark.sql.functions import col, rank, desc\n",
    "from pyspark.sql.types import *\n",
    "\n",
    "\n",
    "rootpath = 'wasbs://mag-2018-09-27@magtrainingsource.blob.core.windows.net/mag/'\n",
    "outputDir = '/output/user99/pyspark/\n",
    "targetConf = 'WWW'"
   ]
  },
  {
   "cell_type": "code",
   "execution_count": null,
   "metadata": {},
   "outputs": [],
   "source": [
    "# start Spark context\n",
    "sc = SparkContext.getOrCreate()\n",
    "spark = SparkSession(sc)\n",
    "\n",
    "\n",
    "# load data\n",
    "_ConferenceSeries = spark.read.load(rootpath + \"ConferenceSeries.txt\", format=\"csv\", sep=\"\\t\") \\\n",
    ".toDF(\"ConferenceInstanceId\", \"Rank\", \"NormalizedName\", \"DisplayName\", \"PaperCount\", \n",
    "      \"CitationCount\", \"CreatedDate\") \\\n",
    ".where(col(\"NormalizedName\").isin(targetConf)) \\\n",
    ".select(\"ConferenceInstanceId\")\n",
    "\n",
    "\n",
    "_Papers = spark.read.load(rootpath + \"Papers.txt\", format=\"csv\", sep=\"\\t\") \\\n",
    ".toDF(\"PaperId\", \"Rank\", \"Doi\", \"DocType\", \"PaperTitle\", \"OriginalTitle\", \"BookTitle\", \"Year\", \"Date\", \"Publisher\", \n",
    "      \"JournalId\", \"ConferenceSeriesId\", \"ConferenceInstanceId\", \"Volume\", \"Issue\", \"FirstPage\", \"LastPage\", \n",
    "      \"ReferenceCount\", \"CitationCount\", \"EstimatedCitationCount\", \"CreatedDate\") \\\n",
    ".join(_ConferenceSeries, \"ConferenceInstanceId\", 'inner') \\\n",
    ".select(\"PaperId\")\n",
    "\n",
    "_Papers.show()\n",
    "\n",
    "_PaperAuthorAffiliation = spark.read.load(rootpath + \"PaperAuthorAffiliations.txt\", format=\"csv\", sep=\"\\t\") \\\n",
    ".toDF(\"PaperId\", \"AuthorId\", \"AffiliationId\", \"AuthorSequenceNumber\", \"OriginalAffiliation\") \\\n",
    ".join(_Papers, \"PaperId\", 'inner') \\\n",
    ".select(\"AuthorId\")\n",
    "\n",
    "\n",
    "Conf_TopAuthors = spark.read.load(rootpath + \"Authors.txt\", format=\"csv\", sep=\"\\t\") \\\n",
    ".toDF(\"AuthorId\", \"Rank\", \"NormalizedName\", \"DisplayName\", \"LastKnownAffiliationId\", \n",
    "      \"PaperCount\", \"CitationCount\", \"CreatedDate\") \\\n",
    ".join(_PaperAuthorAffiliation, \"AuthorId\", 'inner') \\\n",
    ".select(\"AuthorId\", \"DisplayName\", \"PaperCount\", \"CitationCount\")\n",
    "\n",
    "Conf_TopAuthors.show()\n",
    "\n",
    "\n",
    "# Stop Spark context\n",
    "sc.stop()"
   ]
  },
  {
   "cell_type": "code",
   "execution_count": null,
   "metadata": {},
   "outputs": [],
   "source": []
  }
 ],
 "metadata": {
  "kernelspec": {
   "display_name": "Python 3",
   "language": "python",
   "name": "python3"
  },
  "language_info": {
   "codemirror_mode": {
    "name": "ipython",
    "version": 3
   },
   "file_extension": ".py",
   "mimetype": "text/x-python",
   "name": "python",
   "nbconvert_exporter": "python",
   "pygments_lexer": "ipython3",
   "version": "3.7.0"
  }
 },
 "nbformat": 4,
 "nbformat_minor": 2
}
