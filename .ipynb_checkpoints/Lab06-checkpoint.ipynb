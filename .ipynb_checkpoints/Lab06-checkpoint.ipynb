{
 "cells": [
  {
   "cell_type": "markdown",
   "metadata": {},
   "source": [
    "# 06. Conference Top Institutions  "
   ]
  },
  {
   "cell_type": "code",
   "execution_count": null,
   "metadata": {},
   "outputs": [],
   "source": [
    "from pyspark import SparkContext\n",
    "from pyspark.sql import SparkSession, Window\n",
    "from pyspark.sql.types import *\n",
    "from CreateFunctions_mag import *\n",
    "import pyspark.sql.functions as sf"
   ]
  },
  {
   "cell_type": "code",
   "execution_count": null,
   "metadata": {},
   "outputs": [],
   "source": [
    "rootpath = 'wasbs://mag-2018-09-27@magtrainingsource.blob.core.windows.net/mag/'\n",
    "outputDir = '/output/jiaxin/pyspark/'\n",
    "conferenceShortName = 'WWW'\n",
    "conferenceTopInstitutionsCount = 20\n",
    "maDetailPagePrefix = 'https://academic.microsoft.com/#/detail/'"
   ]
  },
  {
   "cell_type": "code",
   "execution_count": null,
   "metadata": {},
   "outputs": [],
   "source": [
    "sc = SparkContext.getOrCreate()\n",
    "spark = SparkSession(sc)"
   ]
  },
  {
   "cell_type": "code",
   "execution_count": null,
   "metadata": {},
   "outputs": [],
   "source": [
    "# First find the conference series id by matching conference short name\n",
    "ConferenceSeries = ConferenceSeries(rootpath, spark)\n",
    "\n",
    "targetConferenceSeriesId = ConferenceSeries.where(sf.col(\"NormalizedName\").isin(conferenceShortName)) \\\n",
    ".select(\"ConferenceSeriesId\")\n",
    "\n",
    "\n",
    "# Get all conference papers by conference series Id.\n",
    "Papers = Papers(rootpath, spark)\n",
    "\n",
    "conferencePapers = Papers.join(targetConferenceSeriesId, \"ConferenceSeriesId\", 'inner') \\\n",
    ".select(\"PaperId\", \"CitationCount\", \"ConferenceSeriesId\")\n",
    "\n",
    "\n",
    "# Get all [paper] -> [affiliation] relationship from [paper] -> [author, affiliation]\n",
    "PaperAuthorAffiliations = PaperAuthorAffiliations(rootpath, spark)\n",
    "\n",
    "paperAffiliation = PaperAuthorAffiliations.where(sf.col(\"AffiliationId\").isNotNull()) \\\n",
    ".select(\"PaperId\", \"AffiliationId\")\n",
    "\n",
    "\n",
    "# Get all distinct [conference paper] -> [affiliation] relationships\n",
    "Affiliation = Affiliations(rootpath, spark)\n",
    "\n",
    "conferenceAffiliationsPapers = conferencePapers.join(paperAffiliation, \"PaperId\", 'inner') \\\n",
    ".groupby(\"PaperId\", \"AffiliationId\") \\\n",
    ".agg(sf.avg(\"CitationCount\").alias(\"CitationCount\")) \\\n",
    ".join(Affiliation.select(\"AffiliationId\", \"DisplayName\").distinct(), \"AffiliationId\", 'inner') \\\n",
    ".selectExpr(\"DisplayName as InstitutionName\", \"AffiliationId\", \"PaperId\", \"CitationCount\")\n",
    "\n",
    "    \n",
    "# Get top institution by its all time citation count\n",
    "conferenceTopInstitutions = conferenceAffiliationsPapers.groupby(\"AffiliationId\", \"InstitutionName\") \\\n",
    ".agg({\"CitationCount\": \"sum\", \"*\": \"count\"}) \\\n",
    ".withColumnRenamed(\"count(1)\", \"PublicationCount\") \\\n",
    ".withColumnRenamed(\"sum(CitationCount)\", \"CitationCount\") \\\n",
    ".withColumn(\"DetailsUrl\", sf.concat(sf.lit(maDetailPagePrefix), \"AffiliationId\")) \\\n",
    ".orderBy(\"CitationCount\", ascending=False) \\\n",
    ".limit(conferenceTopInstitutionsCount)\n",
    "    \n",
    "\n",
    "# Create two ranks based on publication and citation to display on the x and y axis for comparison\n",
    "conferenceTopInstitutions = conferenceTopInstitutions.select(\"InstitutionName\", \"DetailsUrl\", \"PublicationCount\", \"CitationCount\", \n",
    "                                        sf.rank().over(Window.orderBy(sf.desc(\"CitationCount\"))).alias(\"InstitutionCitationRank\"), \n",
    "                                        sf.rank().over(Window.orderBy(sf.desc(\"PublicationCount\"))).alias(\"InstitutionPublicationRank\"))\n",
    "\n",
    "\n",
    "conferenceTopInstitutions.write.csv(outputDir + \"conferenceTopInstitutions.csv\", mode='overwrite', header='true')"
   ]
  },
  {
   "cell_type": "code",
   "execution_count": null,
   "metadata": {},
   "outputs": [],
   "source": [
    "sc.stop()"
   ]
  }
 ],
 "metadata": {
  "kernelspec": {
   "display_name": "Python 3",
   "language": "python",
   "name": "python3"
  },
  "language_info": {
   "codemirror_mode": {
    "name": "ipython",
    "version": 3
   },
   "file_extension": ".py",
   "mimetype": "text/x-python",
   "name": "python",
   "nbconvert_exporter": "python",
   "pygments_lexer": "ipython3",
   "version": "3.6.7"
  }
 },
 "nbformat": 4,
 "nbformat_minor": 2
}
