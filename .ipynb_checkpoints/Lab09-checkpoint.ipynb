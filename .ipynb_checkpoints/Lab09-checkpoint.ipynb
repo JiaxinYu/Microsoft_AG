{
 "cells": [
  {
   "cell_type": "markdown",
   "metadata": {},
   "source": [
    "# 09. Conference Top Citing Venues       "
   ]
  },
  {
   "cell_type": "code",
   "execution_count": null,
   "metadata": {},
   "outputs": [],
   "source": [
    "from pyspark import SparkContext\n",
    "from pyspark.sql import SparkSession, Window\n",
    "from pyspark.sql.types import *\n",
    "from CreateFunctions_mag import *\n",
    "import pyspark.sql.functions as sf"
   ]
  },
  {
   "cell_type": "code",
   "execution_count": null,
   "metadata": {},
   "outputs": [],
   "source": [
    "rootpath = 'wasbs://mag-2018-09-27@magtrainingsource.blob.core.windows.net/mag/'\n",
    "outputDir = '/output/jiaxin/pyspark/'\n",
    "conferenceShortName = 'WWW'\n",
    "conferenceAnalyticsBaseDir = '/output/conferenceAnalytics/'"
   ]
  },
  {
   "cell_type": "code",
   "execution_count": null,
   "metadata": {},
   "outputs": [],
   "source": [
    "sc = SparkContext.getOrCreate()\n",
    "spark = SparkSession(sc)"
   ]
  },
  {
   "cell_type": "code",
   "execution_count": null,
   "metadata": {},
   "outputs": [],
   "source": [
    "# The visualization can join against this table to get venue information. \n",
    "ConferenceSeries = ConferenceSeries(rootpath, spark)\n",
    "\n",
    "ConferenceSeries1 = ConferenceSeries.selectExpr(\"ConferenceSeriesId as VenueId\", \"NormalizedName as VenueShortName\", \"DisplayName as VenueName\")\n",
    "\n",
    "Journals = Journals(rootpath, spark)\n",
    "\n",
    "Journals1 = Journals.selectExpr(\"JournalId as VenueId\", \"NormalizedName as VenueShortName\", \"DisplayName as VenueName\")\n",
    "\n",
    "venues = ConferenceSeries1.union(Journals1)\n",
    "\n",
    "venues.write.csv(outputDir + \"venues.csv\", mode='overwrite', header='true')"
   ]
  },
  {
   "cell_type": "code",
   "execution_count": null,
   "metadata": {},
   "outputs": [],
   "source": [
    "# First find the conference series id by matching conference short name.\n",
    "targetConferenceSeriesId = ConferenceSeries.where(sf.col(\"NormalizedName\").isin(conferenceShortName)) \\\n",
    ".select(\"ConferenceSeriesId\")\n",
    "\n",
    "\n",
    "# Get all conference papers by conference series Id.\n",
    "Papers = Papers(rootpath, spark)\n",
    "\n",
    "conferencePapers = Papers.join(targetConferenceSeriesId, \"ConferenceSeriesId\", 'inner') \\\n",
    ".selectExpr(\"PaperId\", \"Year\", \"ConferenceSeriesId as VenueId\")\n",
    "\n",
    "\n",
    "# Get relationships between [citing paper] -> [conference paper]\n",
    "PaperReference = PaperReferences(rootpath, spark)\n",
    "\n",
    "conferencePaperCitations = conferencePapers.join(PaperReference, \"PaperId\", 'inner')\n",
    "\n",
    "Papers1 = Papers.withColumn(\"CitationVenueId\", sf.coalesce(\"ConferenceSeriesId\", \"JournalId\")) \\\n",
    ".selectExpr(\"PaperId as CitationId\", \"CitationVenueId\")\n",
    "\n",
    "conferencePaperCitations =  Papers1.join(conferencePaperCitations, Papers1.CitationId == conferencePaperCitations.PaperReferenceId, 'inner') \\\n",
    ".select(\"PaperId\", \"Year\", \"VenueId\", \"CitationId\", \"CitationVenueId\")\n",
    "\n",
    "\n",
    "# Count the number of citations between citing conference and conference\n",
    "# Keep VenueId and CitationVenueId such that the visulization can join directly with Venue table to get venue names\n",
    "conferencePaperCitationsByVenue = conferencePaperCitations.groupby(\"VenueId\", \"CitationVenueId\") \\\n",
    ".agg(sf.count(\"*\")) \\\n",
    ".withColumnRenamed(\"count(1)\", \"CitationCount\")\n",
    "\n",
    "conferencePaperCitationsByVenue.write.csv(outputDir + \"conferencePaperCitationsByVenue.csv\", mode='overwrite', header='true')"
   ]
  },
  {
   "cell_type": "code",
   "execution_count": null,
   "metadata": {},
   "outputs": [],
   "source": [
    "# For each yeah of conference, count the number of citations between citing conference and conference\n",
    "# Keep VenueId and CitationVenueId such that the visulization can join directly with Venue table to get venue names\n",
    "conferencePaperCitationsByYearCitationVenue = conferencePaperCitations.groupby(\"CitationVenueId\", \"Year\") \\\n",
    ".agg(sf.count(\"*\")) \\\n",
    ".withColumnRenamed(\"count(1)\", \"CitationCount\")\n",
    "\n",
    "conferencePaperCitationsByYearCitationVenue.write.csv(outputDir + \"conferencePaperCitationsByYearCitationVenue.csv\", mode='overwrite', header='true')"
   ]
  },
  {
   "cell_type": "code",
   "execution_count": null,
   "metadata": {},
   "outputs": [],
   "source": [
    "sc.stop()"
   ]
  }
 ],
 "metadata": {
  "kernelspec": {
   "display_name": "Python 3",
   "language": "python",
   "name": "python3"
  },
  "language_info": {
   "codemirror_mode": {
    "name": "ipython",
    "version": 3
   },
   "file_extension": ".py",
   "mimetype": "text/x-python",
   "name": "python",
   "nbconvert_exporter": "python",
   "pygments_lexer": "ipython3",
   "version": "3.6.7"
  }
 },
 "nbformat": 4,
 "nbformat_minor": 2
}
