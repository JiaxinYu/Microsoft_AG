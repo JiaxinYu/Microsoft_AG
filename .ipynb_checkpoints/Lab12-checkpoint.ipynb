{
 "cells": [
  {
   "cell_type": "markdown",
   "metadata": {},
   "source": [
    "# 12. Organization Insight"
   ]
  },
  {
   "cell_type": "code",
   "execution_count": null,
   "metadata": {},
   "outputs": [],
   "source": [
    "from pyspark import SparkContext\n",
    "from pyspark.sql import SparkSession, Window\n",
    "from pyspark.sql.types import *\n",
    "import pyspark.sql.functions as sf\n",
    "\n",
    "\n",
    "rootpath = 'wasbs://mag-2018-09-27@magtrainingsource.blob.core.windows.net/mag/'\n",
    "outputDir = '/output/user99/pyspark/'\n",
    "organizationName = 'microsoft'\n",
    "organizationPaperMinYear = 1991\n",
    "maDetailPagePrefix = 'https://academic.microsoft.com/#/detail/'"
   ]
  },
  {
   "cell_type": "code",
   "execution_count": null,
   "metadata": {},
   "outputs": [],
   "source": [
    "sc = SparkContext.getOrCreate()\n",
    "spark = SparkSession(sc)"
   ]
  },
  {
   "cell_type": "code",
   "execution_count": null,
   "metadata": {},
   "outputs": [],
   "source": [
    "# Find the affiliation for the input organization\n",
    "\n",
    "@targetAffiliation =\n",
    "    SELECT \n",
    "        AffiliationId, \n",
    "        DisplayName AS AffiliationName\n",
    "    FROM Affiliations\n",
    "    WHERE NormalizedName == @organizationName;\n",
    "\n",
    "\n",
    "targetAffiliation.write.csv(outputDir + \"targetAffiliation.csv\", mode='overwrite', header='true')"
   ]
  },
  {
   "cell_type": "code",
   "execution_count": null,
   "metadata": {},
   "outputs": [],
   "source": [
    "@targetAffiliationId =\n",
    "    SELECT (long?) AffiliationId AS AffiliationId //Cast long to long? to join against Paper table\n",
    "    FROM @targetAffiliation;\n",
    "\n",
    "\n",
    "# Get all [Paper]->[Author]->[Affiliation(input organization] relationships\n",
    "\n",
    "@orgPaperAuthorAffiliation =\n",
    "    SELECT PaperAuthorAffiliations.PaperId,\n",
    "           PaperAuthorAffiliations.AuthorId,\n",
    "           @targetAffiliationId.AffiliationId,\n",
    "           PaperAuthorAffiliations.AuthorSequenceNumber\n",
    "    FROM PaperAuthorAffiliations\n",
    "         INNER JOIN\n",
    "             @targetAffiliationId\n",
    "         ON PaperAuthorAffiliations.AffiliationId == @targetAffiliationId.AffiliationId;\n",
    "\n",
    "\n",
    "orgPaperAuthorAffiliation.write.csv(outputDir + \"orgPaperAuthorAffiliation.csv\", mode='overwrite', header='true')"
   ]
  },
  {
   "cell_type": "code",
   "execution_count": null,
   "metadata": {},
   "outputs": [],
   "source": [
    "# Get all org author details\n",
    "\n",
    "@orgAuthors =\n",
    "    SELECT @orgAuthorIds.AuthorId,\n",
    "           Authors.DisplayName AS AuthorName\n",
    "    FROM Authors\n",
    "         INNER JOIN\n",
    "             @orgAuthorIds\n",
    "         ON Authors.AuthorId == @orgAuthorIds.AuthorId;\n",
    "\n",
    "\n",
    "orgAuthors.write.csv(outputDir + \"orgAuthors.csv\", mode='overwrite', header='true')"
   ]
  },
  {
   "cell_type": "code",
   "execution_count": null,
   "metadata": {},
   "outputs": [],
   "source": [
    "# Get all paper Ids for the input organization\n",
    "\n",
    "@orgPaperIds =\n",
    "    SELECT DISTINCT PaperId\n",
    "    FROM @orgPaperAuthorAffiliation;\n",
    "\n",
    "\n",
    "# Get all org paper details\n",
    "\n",
    "@orgPapers =\n",
    "    SELECT Papers.PaperId,\n",
    "           Papers.PaperTitle AS Title,\n",
    "           Papers.EstimatedCitation AS CitationCount,\n",
    "           Papers.Date,\n",
    "           //Use \"Not avaliable\" to represent the publication type if it is unknown.\n",
    "           String.IsNullOrEmpty(Papers.DocType) ? \"Not avaliable\" : Papers.DocType AS PublicationType,\n",
    "           Math.Exp(Papers.Rank * -0.001) AS LogProb,\n",
    "           @maDetailPagePrefix + Papers.PaperId AS Url,\n",
    "           Papers.ConferenceSeriesId == null ? Papers.JournalId : Papers.ConferenceSeriesId AS VId,\n",
    "           Year\n",
    "    FROM Papers\n",
    "         INNER JOIN\n",
    "             @orgPaperIds\n",
    "         ON Papers.PaperId == @orgPaperIds.PaperId\n",
    "    WHERE Year >= @organizationPaperMinYear;\n",
    "\n",
    "\n",
    "orgPapers.write.csv(outputDir + \"orgPapers.csv\", mode='overwrite', header='true')"
   ]
  },
  {
   "cell_type": "code",
   "execution_count": null,
   "metadata": {},
   "outputs": [],
   "source": [
    "# Get all [Paper]->[Author/Affiliation] relationships for the org\n",
    "\n",
    "@orgAllPaperAuthorAffiliations =\n",
    "    SELECT @orgPapers.PaperId,\n",
    "           PaperAuthorAffiliations.AuthorId,\n",
    "           PaperAuthorAffiliations.AffiliationId,\n",
    "           PaperAuthorAffiliations.AuthorSequenceNumber\n",
    "    FROM PaperAuthorAffiliations\n",
    "         JOIN\n",
    "             @orgPapers\n",
    "         ON PaperAuthorAffiliations.PaperId == @orgPapers.PaperId;\n",
    "\n",
    "\n",
    "# All distinct affiliation id from [Paper] -> [Author/Affiliation] relationship are the partner affiliations\n",
    "\n",
    "@orgPartnerPaperAuthorAffiliations =\n",
    "        SELECT \n",
    "            PaperId,\n",
    "            AuthorId,\n",
    "            AffiliationId,\n",
    "            AuthorSequenceNumber\n",
    "        FROM @orgAllPaperAuthorAffiliations\n",
    "    EXCEPT\n",
    "\n",
    "    #Don't include target org's affiliation in the distinct\n",
    "        SELECT \n",
    "            PaperId,\n",
    "            AuthorId,\n",
    "            AffiliationId,\n",
    "            AuthorSequenceNumber\n",
    "        FROM @orgPaperAuthorAffiliation;\n",
    "\n",
    "\n",
    "orgPartnerPaperAuthorAffiliations.write.csv(outputDir + \"orgPartnerPaperAuthorAffiliations.csv\", mode='overwrite', header='true')"
   ]
  },
  {
   "cell_type": "code",
   "execution_count": null,
   "metadata": {},
   "outputs": [],
   "source": [
    "# Get all partner orgs' affiliation Ids\n",
    "\n",
    "@orgPartnerAffiliationIds =\n",
    "    SELECT DISTINCT (long)AffiliationId AS AffiliationId\n",
    "    FROM @orgPartnerPaperAuthorAffiliations\n",
    "    WHERE AffiliationId != NULL;\n",
    "\n",
    "\n",
    "\n",
    "# Get all partner orgs' affiliation details\n",
    "\n",
    "@orgPartnerAffiliations =\n",
    "    SELECT @orgPartnerAffiliationIds.AffiliationId,\n",
    "           Affiliations.DisplayName AS AffiliationName\n",
    "    FROM Affiliations\n",
    "         INNER JOIN\n",
    "             @orgPartnerAffiliationIds\n",
    "         ON Affiliations.AffiliationId == @orgPartnerAffiliationIds.AffiliationId;\n",
    "\n",
    "\n",
    "orgPartnerAffiliations.write.csv(outputDir + \"orgPartnerAffiliations.csv\", mode='overwrite', header='true')"
   ]
  },
  {
   "cell_type": "code",
   "execution_count": null,
   "metadata": {},
   "outputs": [],
   "source": [
    "# Get all partner authors' Ids\n",
    "\n",
    "@orgPartnerAuthorIds =\n",
    "    SELECT DISTINCT AuthorId\n",
    "    FROM @orgPartnerPaperAuthorAffiliations;\n",
    "\n",
    "\n",
    "#Get all partner authors' details\n",
    "\n",
    "@orgPartnerAuthors =\n",
    "    SELECT @orgPartnerAuthorIds.AuthorId,\n",
    "           Authors.DisplayName AS AuthorName\n",
    "    FROM Authors\n",
    "         INNER JOIN\n",
    "             @orgPartnerAuthorIds\n",
    "         ON Authors.AuthorId == @orgPartnerAuthorIds.AuthorId;\n",
    "\n",
    "\n",
    "orgPartnerAuthors.write.csv(outputDir + \"orgPartnerAuthors.csv\", mode='overwrite', header='true')"
   ]
  },
  {
   "cell_type": "code",
   "execution_count": null,
   "metadata": {},
   "outputs": [],
   "source": [
    "# Get all [Paper]->[Field of Study] relationships for the input organization\n",
    "\n",
    "@orgPaperFieldOfStudy =\n",
    "    SELECT @orgPapers.PaperId,\n",
    "           PaperFieldsOfStudy.FieldOfStudyId\n",
    "    FROM PaperFieldsOfStudy\n",
    "         INNER JOIN\n",
    "             @orgPapers\n",
    "         ON PaperFieldsOfStudy.PaperId == @orgPapers.PaperId;\n",
    "\n",
    "\n",
    "orgPaperFieldOfStudy.write.csv(outputDir + \"orgPaperFieldOfStudy.csv\", mode='overwrite', header='true')"
   ]
  },
  {
   "cell_type": "code",
   "execution_count": null,
   "metadata": {},
   "outputs": [],
   "source": [
    "# Get all Field of Study Ids for the input organization\n",
    "\n",
    "@orgFieldOfStudyIds =\n",
    "    SELECT DISTINCT FieldOfStudyId\n",
    "    FROM @orgPaperFieldOfStudy;\n",
    "\n",
    "\n",
    "\n",
    "# Get all fields of study details for the input organization\n",
    "\n",
    "@fieldOfStudyOut =\n",
    "    SELECT @orgFieldOfStudyIds.FieldOfStudyId,\n",
    "           FieldsOfStudy.Level AS FieldLevel,\n",
    "           FieldsOfStudy.DisplayName AS FieldName\n",
    "    FROM FieldsOfStudy\n",
    "         INNER JOIN\n",
    "             @orgFieldOfStudyIds\n",
    "         ON FieldsOfStudy.FieldOfStudyId == @orgFieldOfStudyIds.FieldOfStudyId;\n",
    "\n",
    "\n",
    "fieldOfStudyOut.write.csv(outputDir + \"fieldOfStudyOut.csv\", mode='overwrite', header='true')"
   ]
  },
  {
   "cell_type": "code",
   "execution_count": null,
   "metadata": {},
   "outputs": [],
   "source": [
    "# Get all Conference/Journal details as Venue details\n",
    "\n",
    "@venue =\n",
    "    SELECT ConferenceSeriesId AS VId,\n",
    "           DisplayName AS VenueName,\n",
    "           NormalizedName AS VenueShortName\n",
    "    FROM ConferenceSeries\n",
    "UNION\n",
    "    SELECT JournalId AS VId,\n",
    "           DisplayName AS VenueName,\n",
    "           NormalizedName AS VenueShortName\n",
    "    FROM Journals;\n",
    "\n",
    "\n",
    "venue.write.csv(outputDir + \"venue.csv\", mode='overwrite', header='true')"
   ]
  },
  {
   "cell_type": "code",
   "execution_count": null,
   "metadata": {},
   "outputs": [],
   "source": [
    "sc.stop()"
   ]
  }
 ],
 "metadata": {
  "kernelspec": {
   "display_name": "Python 3",
   "language": "python",
   "name": "python3"
  },
  "language_info": {
   "codemirror_mode": {
    "name": "ipython",
    "version": 3
   },
   "file_extension": ".py",
   "mimetype": "text/x-python",
   "name": "python",
   "nbconvert_exporter": "python",
   "pygments_lexer": "ipython3",
   "version": "3.7.0"
  }
 },
 "nbformat": 4,
 "nbformat_minor": 2
}
