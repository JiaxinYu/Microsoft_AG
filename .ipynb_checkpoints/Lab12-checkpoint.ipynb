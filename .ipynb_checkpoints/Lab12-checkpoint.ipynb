{
 "cells": [
  {
   "cell_type": "markdown",
   "metadata": {},
   "source": [
    "# 12. Organization Insight           \n",
    "1. //Get all paper Ids for the input organization  \n",
    "1. //Get all org paper details  \n",
    "1. //Get all [Paper]->[Author/Affiliation] relationships for the org  \n",
    "1. //All distinct affiliation id from [Paper] -> [Author/Affiliation] relationship are the partner affiliations  \n",
    "1. //Don't include target org's affiliation in the distinct  \n",
    "1. //Get all partner orgs' affiliation Ids  \n",
    "1. //Get all partner orgs' affiliation details  \n",
    "1. //Get all partner authors' Ids  \n",
    "1. //Get all partner authors' details  \n",
    "1. //Get all [Paper]->[Field of Study] relationships for the input organization  \n",
    "1. //Get all Field of Study Ids for the input organization  \n",
    "1. //Get all fields of study details for the input organization  \n",
    "1. //Get all Conference/Journal details as Venue details  "
   ]
  },
  {
   "cell_type": "code",
   "execution_count": null,
   "metadata": {},
   "outputs": [],
   "source": [
    "from pyspark import SparkContext\n",
    "from pyspark.sql import SparkSession, Window\n",
    "from pyspark.sql.types import *\n",
    "import pyspark.sql.functions as sf\n",
    "\n",
    "\n",
    "rootpath = 'wasbs://mag-2018-09-27@magtrainingsource.blob.core.windows.net/mag/'\n",
    "outputDir = '/output/user99/pyspark/'\n",
    "organizationName = 'microsoft'\n",
    "organizationPaperMinYear = int(1991)\n",
    "maDetailPagePrefix = 'https://academic.microsoft.com/#/detail/'"
   ]
  },
  {
   "cell_type": "code",
   "execution_count": null,
   "metadata": {},
   "outputs": [],
   "source": [
    "# start Spark context\n",
    "sc = SparkContext.getOrCreate()\n",
    "spark = SparkSession(sc)\n",
    "\n",
    "\n",
    "# Find the affiliation for the input organization  \n",
    "targetAffiliation = spark.read.load(rootpath + \"Affiliations.txt\", format=\"csv\", sep=\"\\t\") \\\n",
    ".toDF(\"AffiliationId\", \"Rank\", \"NormalizedName\", \"DisplayName\", \"GridId\", \"OfficialPage\", \"WikiPage\", \"PaperCount\", \"CitationCount\", \"CreatedDate\") \\\n",
    ".where(sf.col(\"NormalizedName\").isin(organizationName)) \\\n",
    ".select(\"AffiliationId\", \"DisplayName\")\n",
    "\n",
    "\n",
    "# Get all [Paper]->[Author]->[Affiliation(input organization] relationships  \n",
    "orgPaperAuthorAffiliation = PublicationCount = spark.read.load(rootpath + \"PaperAuthorAffiliations.txt\", format=\"csv\", sep=\"\\t\") \\\n",
    ".toDF(\"PaperId\", \"AuthorId\", \"AffiliationId\", \"AuthorSequenceNumber\", \"OriginalAffiliation\") \\\n",
    ".join(targetAffiliation, \"AffiliationId\", 'inner') \\\n",
    ".select(\"PaperId\", \"AuthorId\", \"AffiliationId\", \"AuthorSequenceNumber\")\n",
    "\n",
    "\n",
    "# Get all org author Ids\n",
    "\n",
    "\n",
    "\n",
    "\n",
    "# Get all org author details\n",
    "\n",
    "\n",
    "\n",
    "\n",
    "# Stop Spark context\n",
    "sc.stop()"
   ]
  }
 ],
 "metadata": {
  "kernelspec": {
   "display_name": "Python 3",
   "language": "python",
   "name": "python3"
  },
  "language_info": {
   "codemirror_mode": {
    "name": "ipython",
    "version": 3
   },
   "file_extension": ".py",
   "mimetype": "text/x-python",
   "name": "python",
   "nbconvert_exporter": "python",
   "pygments_lexer": "ipython3",
   "version": "3.7.0"
  }
 },
 "nbformat": 4,
 "nbformat_minor": 2
}
