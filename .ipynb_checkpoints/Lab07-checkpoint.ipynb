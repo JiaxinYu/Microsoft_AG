{
 "cells": [
  {
   "cell_type": "markdown",
   "metadata": {},
   "source": [
    "# 07. Conference Memory of References    "
   ]
  },
  {
   "cell_type": "code",
   "execution_count": null,
   "metadata": {},
   "outputs": [],
   "source": [
    "from pyspark import SparkContext\n",
    "from pyspark.sql import SparkSession, Window\n",
    "from pyspark.sql.types import *\n",
    "import pyspark.sql.functions as sf\n",
    "\n",
    "\n",
    "rootpath = 'wasbs://mag-2018-09-27@magtrainingsource.blob.core.windows.net/mag/'\n",
    "outputDir = '/output/jiaxin/pyspark/'\n",
    "conferenceShortName = 'WWW'"
   ]
  },
  {
   "cell_type": "code",
   "execution_count": null,
   "metadata": {},
   "outputs": [],
   "source": [
    "sc = SparkContext.getOrCreate()\n",
    "spark = SparkSession(sc)"
   ]
  },
  {
   "cell_type": "code",
   "execution_count": null,
   "metadata": {},
   "outputs": [],
   "source": [
    "# First find the conference series id by matching conference short name\n",
    "targetConferenceSeriesId = spark.read.load(rootpath + \"ConferenceSeries.txt\", format=\"csv\", sep=\"\\t\") \\\n",
    ".toDF(\"ConferenceSeriesId\", \"Rank\", \"NormalizedName\", \"DisplayName\", \"PaperCount\", \n",
    "      \"CitationCount\", \"CreatedDate\") \\\n",
    ".where(sf.col(\"NormalizedName\").isin(conferenceShortName)) \\\n",
    ".select(\"ConferenceSeriesId\")\n",
    "\n",
    "\n",
    "# Get all conference papers by conference series Id.\n",
    "Papers = spark.read.load(rootpath + \"Papers.txt\", format=\"csv\", sep=\"\\t\") \\\n",
    ".toDF(\"PaperId\", \"Rank\", \"Doi\", \"DocType\", \"PaperTitle\", \"OriginalTitle\", \"BookTitle\", \n",
    "      \"Year\", \"Date\", \"Publisher\", \"JournalId\", \"ConferenceSeriesId\", \"ConferenceInstanceId\", \n",
    "      \"Volume\", \"Issue\", \"FirstPage\", \"LastPage\", \"ReferenceCount\", \"CitationCount\", \n",
    "      \"EstimatedCitationCount\", \"CreatedDate\")\n",
    "\n",
    "conferencePapers = Paper.join(targetConferenceSeriesId, \"ConferenceSeriesId\", 'inner') \\\n",
    ".select(\"PaperId\", \"Year\", \"CitationCount\")\n",
    "\n",
    "\n",
    "# Get all reference from [conference Paper] -> [referenced paper]\n",
    "References = spark.read.load(rootpath + \"PaperReferences.txt\", format=\"csv\", sep=\"\\t\") \\\n",
    ".toDF(\"PaperId\", \"PaperReferenceId\")\n",
    "\n",
    "conferencePaperReferences = Paper.join(PaperReference, Paper.PaperId == PaperReference.PaperReferenceId, 'inner') \\\n",
    ".join(conferencePapers, \"PaperId\", 'inner') \\\n",
    "\n",
    "\n",
    "\n",
    "    SELECT @conferencePapers.PaperId,\n",
    "           @conferencePapers.Year,\n",
    "           Paper.PaperId AS ReferenceId,\n",
    "           Paper.Year AS ReferenceYear\n",
    "        \n",
    "    FROM Paper\n",
    "         INNER JOIN\n",
    "             PaperReference\n",
    "         ON Paper.PaperId == PaperReference.PaperReferenceId\n",
    "         INNER JOIN\n",
    "             @conferencePapers\n",
    "         ON PaperReference.PaperId == @conferencePapers.PaperId;\n",
    "\n",
    "\n",
    "\n",
    "\n",
    "#//Aggregate reference count per conference year and reference paper year to create year matrix for reference count\n",
    "\n",
    "@conferencePaperReferenceByYears =\n",
    "\n",
    "    SELECT @conferencePaperReferences.Year,\n",
    "           @conferencePaperReferences.ReferenceYear,\n",
    "           COUNT( * ) AS ReferenceCount\n",
    "\n",
    "    FROM @conferencePaperReferences\n",
    "    //Papers shouldn't be citing papers published beyond one year. \n",
    "    //Microsoft Academic Graph does contain \"future citations\" due to newer book versions or noise. We exclude these for visualization\n",
    "\n",
    "    WHERE @conferencePaperReferences.Year + 1 >= @conferencePaperReferences.ReferenceYear \n",
    "    GROUP BY @conferencePaperReferences.Year,\n",
    "             @conferencePaperReferences.ReferenceYear;\n",
    "\n",
    "\n",
    "\n",
    "\n",
    "\n",
    "OUTPUT @conferencePaperReferenceByYears\n",
    "TO @conferenceReferenceMemoryOutPath\n",
    "USING Outputters.Tsv(outputHeader : true);"
   ]
  },
  {
   "cell_type": "code",
   "execution_count": null,
   "metadata": {},
   "outputs": [],
   "source": [
    "sc.stop()"
   ]
  }
 ],
 "metadata": {
  "kernelspec": {
   "display_name": "Python 3",
   "language": "python",
   "name": "python3"
  },
  "language_info": {
   "codemirror_mode": {
    "name": "ipython",
    "version": 3
   },
   "file_extension": ".py",
   "mimetype": "text/x-python",
   "name": "python",
   "nbconvert_exporter": "python",
   "pygments_lexer": "ipython3",
   "version": "3.7.0"
  }
 },
 "nbformat": 4,
 "nbformat_minor": 2
}
