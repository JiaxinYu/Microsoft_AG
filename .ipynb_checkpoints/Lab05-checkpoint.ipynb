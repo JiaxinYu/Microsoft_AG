{
 "cells": [
  {
   "cell_type": "markdown",
   "metadata": {},
   "source": [
    "# 05. Conference Top Authors  "
   ]
  },
  {
   "cell_type": "code",
   "execution_count": null,
   "metadata": {},
   "outputs": [],
   "source": [
    "from pyspark import SparkContext\n",
    "from pyspark.sql import SparkSession, Window\n",
    "from pyspark.sql.types import *\n",
    "import pyspark.sql.functions as sf\n",
    "\n",
    "\n",
    "rootpath = 'wasbs://mag-2018-09-27@magtrainingsource.blob.core.windows.net/mag/'\n",
    "outputDir = '/output/jiaxin/pyspark/'\n",
    "conferenceShortName = 'WWW'\n",
    "conferenceTopPapersCount = 20\n",
    "conferenceMostCitedAuthorsCount = 20\n",
    "maDetailPagePrefix = 'https://academic.microsoft.com/#/detail/'"
   ]
  },
  {
   "cell_type": "code",
   "execution_count": null,
   "metadata": {},
   "outputs": [],
   "source": [
    "sc = SparkContext.getOrCreate()\n",
    "spark = SparkSession(sc)"
   ]
  },
  {
   "cell_type": "code",
   "execution_count": null,
   "metadata": {},
   "outputs": [],
   "source": [
    "# First find the conference series id by matching conference short name\n",
    "targetConferenceSeriesId = spark.read.load(rootpath + \"ConferenceSeries.txt\", format=\"csv\", sep=\"\\t\") \\\n",
    ".toDF(\"ConferenceSeriesId\", \"Rank\", \"NormalizedName\", \"DisplayName\", \"PaperCount\", \n",
    "      \"CitationCount\", \"CreatedDate\") \\\n",
    ".where(sf.col(\"NormalizedName\").isin(conferenceShortName)) \\\n",
    ".select(\"ConferenceSeriesId\")\n",
    "\n",
    "\n",
    "# Get all conference papers by conference series Id\n",
    "conferencePapers = spark.read.load(rootpath + \"Papers.txt\", format=\"csv\", sep=\"\\t\") \\\n",
    ".toDF(\"PaperId\", \"Rank\", \"Doi\", \"DocType\", \"PaperTitle\", \"OriginalTitle\", \"BookTitle\", \n",
    "      \"Year\", \"Date\", \"Publisher\", \"JournalId\", \"ConferenceSeriesId\", \"ConferenceInstanceId\", \n",
    "      \"Volume\", \"Issue\", \"FirstPage\", \"LastPage\", \"ReferenceCount\", \"CitationCount\", \n",
    "      \"EstimatedCitationCount\", \"CreatedDate\") \\\n",
    ".join(targetConferenceSeriesId, \"ConferenceSeriesId\", 'inner') \\\n",
    ".select(\"PaperId\", \"CitationCount\", \"OriginalTitle\", \"Year\")\n",
    "\n",
    "\n",
    "# Get all [conference paper] -> [conference author] relationships\n",
    "conferenceAuthorsPapers = spark.read.load(rootpath + \"PaperAuthorAffiliations.txt\", format=\"csv\", sep=\"\\t\") \\\n",
    ".toDF(\"PaperId\", \"AuthorId\", \"AffiliationId\", \"AuthorSequenceNumber\", \"OriginalAffiliation\") \\\n",
    ".join(conferencePapers, \"PaperId\", 'inner') \\\n",
    ".select(\"PaperId\", \"AuthorId\", \"CitationCount\")\n",
    "\n",
    "Author = spark.read.load(rootpath + \"Authors.txt\", format=\"csv\", sep=\"\\t\") \\\n",
    ".toDF(\"AuthorId\", \"Rank\", \"NormalizedName\", \"DisplayName\", \"LastKnownAffiliationId\", \n",
    "      \"PaperCount\", \"CitationCount\", \"CreatedDate\") \\\n",
    ".select(\"AuthorId\", \"DisplayName\")\n",
    "\n",
    "conferenceAuthorsPapers = conferenceAuthorsPapers.join(Author, \"AuthorId\", 'inner') \\\n",
    ".selectExpr(\"DisplayName as AuthorName\", \"AuthorId\", \"PaperId\", \"CitationCount\")\n",
    "\n",
    "\n",
    "# Aggregate citation and publication count for each author  \n",
    "conferenceTopAuthors1 = conferenceAuthorsPapers.groupby(\"AuthorId\") \\\n",
    ".count() \\\n",
    ".join(conferenceAuthorsPapers, \"AuthorId\", 'inner') \\\n",
    ".selectExpr(\"AuthorName\", \"count as PublicationCount\", \"AuthorId\")\n",
    "\n",
    "conferenceTopAuthors2 = conferenceAuthorsPapers.groupby(\"AuthorId\") \\\n",
    ".agg(sf.sum(\"CitationCount\").alias(\"CitationCount\")) \\\n",
    ".join(conferenceTopAuthors1, \"AuthorId\", 'inner') \\\n",
    ".withColumn(\"DetailsUrl\", sf.concat(sf.lit(maDetailPagePrefix), \"AuthorId\")) \\\n",
    ".select(\"AuthorName\", \"DetailsUrl\", \"PublicationCount\", \"CitationCount\") \\\n",
    ".orderBy(\"CitationCount\", ascending=False) \\\n",
    ".limit(conferenceTopPapersCount)\n",
    "\n",
    "\n",
    "# Create two ranks based on publication and citation to display on the x and y axis for comparison  \n",
    "conferenceTopAuthors = conferenceTopAuthors2.withColumn(\"AuthorCitationRank\", sf.rank().over(Window.orderBy(sf.desc(\"CitationCount\")))) \\\n",
    ".withColumn(\"AuthorPublicationRank\", sf.rank().over(Window.orderBy(sf.desc(\"PublicationCount\")))) \\\n",
    ".select(\"*\")\n",
    "\n",
    "conferenceTopAuthors.write.csv(outputDir + 'conferenceTopAuthors.csv', mode='overwrite', header='true')\n",
    "\n",
    "\n",
    "# Get all reference from [conference Paper] -> [referenced paper]  \n",
    "\n",
    "\n",
    "\n",
    "\n",
    "\n",
    "# Get all conference paper -> paper -> author relationships to find most cited authors  \n",
    "\n",
    "\n",
    "\n",
    "\n",
    "\n",
    "# Aggregate publication and citation count for each author cited by conference paper  \n",
    "\n",
    "\n",
    "\n",
    "\n",
    "\n",
    "\n",
    "# Aggregate yearly citation recieved from conference papers for most cited authors\n",
    "\n",
    "\n",
    "\n",
    "\n",
    "\n",
    "\n",
    "# Save results\n",
    "conferenceTopPapers.write.csv(outputDir + \"conferenceTopPapers.csv\", mode='overwrite', header='true')"
   ]
  },
  {
   "cell_type": "code",
   "execution_count": null,
   "metadata": {},
   "outputs": [],
   "source": [
    "sc.stop()"
   ]
  }
 ],
 "metadata": {
  "kernelspec": {
   "display_name": "Python 3",
   "language": "python",
   "name": "python3"
  },
  "language_info": {
   "codemirror_mode": {
    "name": "ipython",
    "version": 3
   },
   "file_extension": ".py",
   "mimetype": "text/x-python",
   "name": "python",
   "nbconvert_exporter": "python",
   "pygments_lexer": "ipython3",
   "version": "3.7.0"
  }
 },
 "nbformat": 4,
 "nbformat_minor": 2
}
