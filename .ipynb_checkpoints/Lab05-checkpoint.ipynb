{
 "cells": [
  {
   "cell_type": "markdown",
   "metadata": {},
   "source": [
    "# 05. Conference Top Authors  "
   ]
  },
  {
   "cell_type": "code",
   "execution_count": null,
   "metadata": {},
   "outputs": [],
   "source": [
    "from pyspark import SparkContext\n",
    "from pyspark.sql import SparkSession, Window\n",
    "from pyspark.sql.types import *\n",
    "import pyspark.sql.functions as sf\n",
    "\n",
    "\n",
    "rootpath = 'wasbs://mag-2018-09-27@magtrainingsource.blob.core.windows.net/mag/'\n",
    "outputDir = '/output/jiaxin/pyspark/'\n",
    "conferenceShortName = 'WWW'\n",
    "conferenceTopPapersCount = 20\n",
    "conferenceMostCitedAuthorsCount = 20\n",
    "maDetailPagePrefix = 'https://academic.microsoft.com/#/detail/'"
   ]
  },
  {
   "cell_type": "code",
   "execution_count": null,
   "metadata": {},
   "outputs": [],
   "source": [
    "sc = SparkContext.getOrCreate()\n",
    "spark = SparkSession(sc)"
   ]
  },
  {
   "cell_type": "code",
   "execution_count": null,
   "metadata": {},
   "outputs": [],
   "source": [
    "# First find the conference series id by matching conference short name\n",
    "targetConferenceSeriesId = spark.read.load(rootpath + \"ConferenceSeries.txt\", format=\"csv\", sep=\"\\t\") \\\n",
    ".toDF(\"ConferenceSeriesId\", \"Rank\", \"NormalizedName\", \"DisplayName\", \"PaperCount\", \n",
    "      \"CitationCount\", \"CreatedDate\") \\\n",
    ".where(sf.col(\"NormalizedName\").isin(conferenceShortName)) \\\n",
    ".select(\"ConferenceSeriesId\")\n",
    "\n",
    "\n",
    "# Get all conference papers by conference series Id\n",
    "Papers = spark.read.load(rootpath + \"Papers.txt\", format=\"csv\", sep=\"\\t\") \\\n",
    ".toDF(\"PaperId\", \"Rank\", \"Doi\", \"DocType\", \"PaperTitle\", \"OriginalTitle\", \"BookTitle\", \n",
    "      \"Year\", \"Date\", \"Publisher\", \"JournalId\", \"ConferenceSeriesId\", \"ConferenceInstanceId\", \n",
    "      \"Volume\", \"Issue\", \"FirstPage\", \"LastPage\", \"ReferenceCount\", \"CitationCount\", \n",
    "      \"EstimatedCitationCount\", \"CreatedDate\")\n",
    "\n",
    "conferencePapers = Papers.join(targetConferenceSeriesId, \"ConferenceSeriesId\", 'inner') \\\n",
    ".select(\"PaperId\", \"CitationCount\", \"OriginalTitle\", \"Year\")\n",
    "\n",
    "\n",
    "# Get all [conference paper] -> [conference author] relationships\n",
    "PaperAuthorAffiliation = spark.read.load(rootpath + \"PaperAuthorAffiliations.txt\", format=\"csv\", sep=\"\\t\") \\\n",
    ".toDF(\"PaperId\", \"AuthorId\", \"AffiliationId\", \"AuthorSequenceNumber\", \"OriginalAffiliation\")\n",
    "\n",
    "conferenceAuthorsPapers = PaperAuthorAffiliation.join(conferencePapers, \"PaperId\", 'inner') \\\n",
    ".select(\"PaperId\", \"AuthorId\", \"CitationCount\")\n",
    "\n",
    "Author = spark.read.load(rootpath + \"Authors.txt\", format=\"csv\", sep=\"\\t\") \\\n",
    ".toDF(\"AuthorId\", \"Rank\", \"NormalizedName\", \"DisplayName\", \"LastKnownAffiliationId\", \n",
    "      \"PaperCount\", \"CitationCount\", \"CreatedDate\") \\\n",
    ".select(\"AuthorId\", \"DisplayName\")\n",
    "\n",
    "conferenceAuthorsPapers = conferenceAuthorsPapers.join(Author, \"AuthorId\", 'inner') \\\n",
    ".selectExpr(\"DisplayName as AuthorName\", \"AuthorId\", \"PaperId\", \"CitationCount\")\n",
    "\n",
    "\n",
    "# Aggregate citation and publication count for each author  \n",
    "conferenceTopAuthors1 = conferenceAuthorsPapers.groupby(\"AuthorId\") \\\n",
    ".count() \\\n",
    ".selectExpr(\"count as PublicationCount\", \"AuthorId\")\n",
    "\n",
    "conferenceTopAuthors2 = conferenceAuthorsPapers.groupby(\"AuthorId\") \\\n",
    ".agg(sf.sum(\"CitationCount\").alias(\"CitationCount\")) \\\n",
    ".join(conferenceTopAuthors1, \"AuthorId\", 'inner') \\\n",
    ".withColumn(\"DetailsUrl\", sf.concat(sf.lit(maDetailPagePrefix), \"AuthorId\")) \\\n",
    ".join(conferenceAuthorsPapers.select(\"AuthorName\", \"AuthorId\").distinct(), \"AuthorId\", 'inner') \\\n",
    ".select(\"AuthorName\", \"DetailsUrl\", \"PublicationCount\", \"CitationCount\") \\\n",
    ".orderBy(\"CitationCount\", ascending=False) \\\n",
    ".limit(conferenceTopPapersCount)\n",
    "\n",
    "\n",
    "# Create two ranks based on publication and citation to display on the x and y axis for comparison  \n",
    "conferenceTopAuthors = conferenceTopAuthors2.withColumn(\"AuthorCitationRank\", sf.rank().over(Window.orderBy(sf.desc(\"CitationCount\")))) \\\n",
    ".withColumn(\"AuthorPublicationRank\", sf.rank().over(Window.orderBy(sf.desc(\"PublicationCount\")))) \\\n",
    ".select(\"*\")\n",
    "\n",
    "# conferenceTopAuthors.write.csv(outputDir + 'conferenceTopAuthors.csv', mode='overwrite', header='true')"
   ]
  },
  {
   "cell_type": "code",
   "execution_count": null,
   "metadata": {},
   "outputs": [],
   "source": [
    "# Get all reference from [conference Paper] -> [referenced paper]  \n",
    "PaperReference = spark.read.load(rootpath + \"PaperReferences.txt\", format=\"csv\", sep=\"\\t\") \\\n",
    ".toDF(\"PaperId\", \"PaperReferenceId\")\n",
    "\n",
    "conferencePaperReferences1 = Papers.selectExpr(\"PaperId as ReferenceId\")\n",
    "\n",
    "conferencePaperReferences = conferencePapers.join(PaperReference, \"PaperId\", 'inner') \\\n",
    ".drop(PaperReference.PaperId) \\\n",
    ".join(conferencePaperReferences1, sf.col(\"PaperReferenceId\") == conferencePaperReferences1.ReferenceId, 'inner') \\\n",
    ".select(\"PaperId\", \"Year\", \"ReferenceId\")\n",
    "\n",
    "\n",
    "# Get all conference paper -> paper -> author relationships to find most cited authors  \n",
    "conferenceCitedAuthorsPapers = conferencePaperReferences.join(PaperAuthorAffiliation, conferencePaperReferences.ReferenceId == PaperAuthorAffiliation.PaperId, 'inner') \\\n",
    ".drop(PaperAuthorAffiliation.PaperId) \\\n",
    ".join(Author, \"AuthorId\", 'inner') \\\n",
    ".drop(Author.AuthorId) \\\n",
    ".selectExpr(\"PaperId\", \"Year\", \"DisplayName as AuthorName\", \"AuthorId\", \"ReferenceId\")\n",
    "\n",
    "\n",
    "# Aggregate publication and citation count for each author cited by conference paper  \n",
    "conferenceMostCitedAuthors1 = conferenceCitedAuthorsPapers.groupby(\"AuthorId\") \\\n",
    ".count() \\\n",
    ".selectExpr(\"AuthorId\", \"count as CitationCount\")\n",
    "\n",
    "conferenceMostCitedAuthors = conferenceCitedAuthorsPapers.groupby(\"AuthorId\") \\\n",
    ".agg(sf.countDistinct(\"ReferenceId\")) \\\n",
    ".withColumnRenamed(\"count(DISTINCT ReferenceId)\", \"PublicationCount\") \\\n",
    ".join(conferenceMostCitedAuthors1, \"AuthorId\", 'inner') \\\n",
    ".withColumn(\"DetailsUrl\", sf.concat(sf.lit(maDetailPagePrefix), \"AuthorId\")) \\\n",
    ".join(conferenceCitedAuthorsPapers.select(\"AuthorName\", \"AuthorId\").distinct(), \"AuthorId\", 'inner') \\\n",
    ".select(\"AuthorName\", \"AuthorId\", \"DetailsUrl\", \"PublicationCount\", \"CitationCount\") \\\n",
    ".orderBy(\"CitationCount\", ascending=False) \\\n",
    ".limit(conferenceMostCitedAuthorsCount)\n",
    "\n",
    "# conferenceMostCitedAuthors.write.csv(outputDir + 'conferenceMostCitedAuthors.csv', mode='overwrite', header='true')"
   ]
  },
  {
   "cell_type": "code",
   "execution_count": null,
   "metadata": {},
   "outputs": [],
   "source": [
    "# Aggregate yearly citation recieved from conference papers for most cited authors\n",
    "conferenceCitedAuthorsByYear = conferenceCitedAuthorsPapers.groupby(\"AuthorId\", \"Year\") \\\n",
    ".agg(sf.count(\"*\")) \\\n",
    ".withColumnRenamed(\"count(1)\", \"CitationCount\") \\\n",
    ".join(conferenceMostCitedAuthors.select(\"AuthorId\"), \"AuthorId\", 'inner') \\\n",
    ".select(\"AuthorId\", \"Year\", \"CitationCount\")\n",
    "\n",
    "# conferenceCitedAuthorsByYear.write.csv(outputDir + \"conferenceCitedAuthorsByYear.csv\", mode='overwrite', header='true')"
   ]
  },
  {
   "cell_type": "code",
   "execution_count": null,
   "metadata": {},
   "outputs": [],
   "source": [
    "sc.stop()"
   ]
  }
 ],
 "metadata": {
  "kernelspec": {
   "display_name": "Python 3",
   "language": "python",
   "name": "python3"
  },
  "language_info": {
   "codemirror_mode": {
    "name": "ipython",
    "version": 3
   },
   "file_extension": ".py",
   "mimetype": "text/x-python",
   "name": "python",
   "nbconvert_exporter": "python",
   "pygments_lexer": "ipython3",
   "version": "3.7.0"
  }
 },
 "nbformat": 4,
 "nbformat_minor": 2
}
