{
 "cells": [
  {
   "cell_type": "markdown",
   "metadata": {},
   "source": [
    "# 11. Field of Study Entity Counts   "
   ]
  },
  {
   "cell_type": "code",
   "execution_count": null,
   "metadata": {},
   "outputs": [],
   "source": [
    "from pyspark import SparkContext\n",
    "from pyspark.sql import SparkSession, Window\n",
    "from pyspark.sql.types import *\n",
    "import pyspark.sql.functions as sf\n",
    "\n",
    "\n",
    "rootpath = 'wasbs://mag-2018-09-27@magtrainingsource.blob.core.windows.net/mag/'\n",
    "outputDir = '/output/jiaxin/pyspark/'\n",
    "conferenceShortName = 'WWW'\n",
    "conferenceAnalyticsBaseDir = '/output/conferenceAnalytics/'"
   ]
  },
  {
   "cell_type": "code",
   "execution_count": null,
   "metadata": {},
   "outputs": [],
   "source": [
    "sc = SparkContext.getOrCreate()\n",
    "spark = SparkSession(sc)"
   ]
  },
  {
   "cell_type": "code",
   "execution_count": null,
   "metadata": {},
   "outputs": [],
   "source": [
    "# Get all [Paper] -> [FieldOfStudy] -> [Author] -> [Affiliation] relationships\n",
    "Papers = spark.read.load(rootpath + \"Papers.txt\", format=\"csv\", sep=\"\\t\") \\\n",
    ".toDF(\"PaperId\", \"Rank\", \"Doi\", \"DocType\", \"PaperTitle\", \"OriginalTitle\", \"BookTitle\", \n",
    "      \"Year\", \"Date\", \"Publisher\", \"JournalId\", \"ConferenceSeriesId\", \"ConferenceInstanceId\", \n",
    "      \"Volume\", \"Issue\", \"FirstPage\", \"LastPage\", \"ReferenceCount\", \"CitationCount\", \n",
    "      \"EstimatedCitationCount\", \"CreatedDate\")\n",
    "\n",
    "PaperFieldsOfStudy = spark.read.load(rootpath + \"PaperFieldsOfStudy.txt\", format=\"csv\", sep=\"\\t\") \\\n",
    ".toDF(\"PaperId\", \"FieldOfStudyId\", \"Score\")\n",
    "\n",
    "PaperAuthorAffiliations = spark.read.load(rootpath + \"PaperAuthorAffiliations.txt\", format=\"csv\", sep=\"\\t\") \\\n",
    ".toDF(\"PaperId\", \"AuthorId\", \"AffiliationId\", \"AuthorSequenceNumber\", \"OriginalAffiliation\")\n",
    "\n",
    "paperAuthorAffiliationFieldsOfStudy = Papers.join(PaperFieldsOfStudy, \"PaperId\", 'inner') \\\n",
    ".join(PaperAuthorAffiliations, \"PaperId\", 'inner') \\\n",
    ".select(\"FieldOfStudyId\", \"PaperId\", \"AuthorId\", \"AffiliationId\", \"JournalId\", \"ConferenceSeriesId\", \"Year\")\n",
    "\n",
    "\n",
    "# Get distinct affiliation, author, journal and confernece count for each field of study by year\n",
    "authorAffiliationJournalConferenceCountByYearAndFos = paperAuthorAffiliationFieldsOfStudy.groupby(\"Year\", \"FieldOfStudyId\") \\\n",
    ".agg(sf.countDistinct(\"AffiliationId\").alias(\"AffiliationCount\"), sf.countDistinct(\"AuthorId\").alias(\"AuthorCount\"), \n",
    "     sf.countDistinct(\"JournalId\").alias(\"JournalCount\"), sf.countDistinct(\"ConferenceSeriesId\").alias(\"ConferenceCount\")) \\\n",
    "\n",
    "\n",
    "# Re-format result from {FieldOfStudyId, Year, AuthorCount, AffiliationCount, JournalCount, ConferenceCount} to \n",
    "# {FieldOfStudyId, Year, Count, EntityType} for easier consumption by visual components.\n",
    "entityStatsByYearAndFos = authorAffiliationJournalConferenceCountByYearAndFos.selectExpr(\"FieldOfStudyId\", \"Year\", \"ConferenceSeriesId as EntityType\", \"ConferenceCount as Count\") \\\n",
    ".union(authorAffiliationJournalConferenceCountByYearAndFos.selectExpr(\"FieldOfStudyId\", \"Year\", \"AffiliationId as EntityType\", \"AffiliationCount as Count\")) \\\n",
    ".union(authorAffiliationJournalConferenceCountByYearAndFos.selectExpr(\"FieldOfStudyId\", \"Year\", \"AuthorId as EntityType\", \"AuthorCount as Count\")) \\\n",
    ".union(authorAffiliationJournalConferenceCountByYearAndFos.selectExpr(\"FieldOfStudyId\", \"Year\", \"JournalId as EntityType\", \"JournalCount as Count\"))\n",
    "\n",
    "entityStatsByYearAndFos.write.csv(outputDir + \"entityStatsByYearAndFos.csv\", mode='overwrite', header='true')"
   ]
  },
  {
   "cell_type": "code",
   "execution_count": null,
   "metadata": {},
   "outputs": [],
   "source": [
    "# output all [FieldOfStudyId, Name] for easier lookup in visuals\n",
    "fieldsOfStudy = FieldsOfStudy.selectExpr(\"FieldOfStudyId\", \"NormalizedName as Name\")\n",
    "\n",
    "fieldsOfStudy.write.csv(outputDir + \"fieldsOfStudy.csv\", mode='overwrite', header='true')"
   ]
  },
  {
   "cell_type": "code",
   "execution_count": null,
   "metadata": {},
   "outputs": [],
   "source": [
    "sc.stop()"
   ]
  }
 ],
 "metadata": {
  "kernelspec": {
   "display_name": "Python 3",
   "language": "python",
   "name": "python3"
  },
  "language_info": {
   "codemirror_mode": {
    "name": "ipython",
    "version": 3
   },
   "file_extension": ".py",
   "mimetype": "text/x-python",
   "name": "python",
   "nbconvert_exporter": "python",
   "pygments_lexer": "ipython3",
   "version": "3.7.0"
  }
 },
 "nbformat": 4,
 "nbformat_minor": 2
}
