{
 "cells": [
  {
   "cell_type": "markdown",
   "metadata": {},
   "source": [
    "# 11. Field of Study Entity Counts   "
   ]
  },
  {
   "cell_type": "code",
   "execution_count": null,
   "metadata": {},
   "outputs": [],
   "source": [
    "from pyspark import SparkContext\n",
    "from pyspark.sql import SparkSession, Window\n",
    "from pyspark.sql.types import *\n",
    "import pyspark.sql.functions as sf\n",
    "\n",
    "\n",
    "rootpath = 'wasbs://mag-2018-09-27@magtrainingsource.blob.core.windows.net/mag/'\n",
    "outputDir = '/output/jiaxin/pyspark/'\n",
    "conferenceShortName = 'WWW'\n",
    "confFieldCitationGrowthRateStartYear = 2013\n",
    "conferenceAnalyticsBaseDir = '/output/conferenceAnalytics/'"
   ]
  },
  {
   "cell_type": "code",
   "execution_count": null,
   "metadata": {},
   "outputs": [],
   "source": [
    "sc = SparkContext.getOrCreate()\n",
    "spark = SparkSession(sc)"
   ]
  },
  {
   "cell_type": "code",
   "execution_count": null,
   "metadata": {},
   "outputs": [],
   "source": [
    "# Get all [Paper] -> [FieldOfStudy] -> [Author] -> [Affiliation] relationships\n",
    "Papers = spark.read.load(rootpath + \"Papers.txt\", format=\"csv\", sep=\"\\t\") \\\n",
    ".toDF(\"PaperId\", \"Rank\", \"Doi\", \"DocType\", \"PaperTitle\", \"OriginalTitle\", \"BookTitle\", \n",
    "      \"Year\", \"Date\", \"Publisher\", \"JournalId\", \"ConferenceSeriesId\", \"ConferenceInstanceId\", \n",
    "      \"Volume\", \"Issue\", \"FirstPage\", \"LastPage\", \"ReferenceCount\", \"CitationCount\", \n",
    "      \"EstimatedCitationCount\", \"CreatedDate\")\n",
    "\n",
    "PaperFieldsOfStudy = spark.read.load(rootpath + \"PaperFieldsOfStudy.txt\", format=\"csv\", sep=\"\\t\") \\\n",
    ".toDF(\"PaperId\", \"FieldOfStudyId\", \"Score\")\n",
    "\n",
    "PaperAuthorAffiliations = spark.read.load(rootpath + \"PaperAuthorAffiliations.txt\", format=\"csv\", sep=\"\\t\") \\\n",
    ".toDF(\"PaperId\", \"AuthorId\", \"AffiliationId\", \"AuthorSequenceNumber\", \"OriginalAffiliation\")\n",
    "\n",
    "paperAuthorAffiliationFieldsOfStudy = Papers.join(PaperFieldsOfStudy, \"PaperId\", 'inner') \\\n",
    ".join(PaperAuthorAffiliations, \"PaperId\", 'inner') \\\n",
    ".select(\"FieldOfStudyId\", \"PaperId\", \"AuthorId\", \"AffiliationId\", \"JournalId\", \"ConferenceSeriesId\", \"Year\")\n",
    "\n",
    "\n",
    "@paperAuthorAffiliationFieldsOfStudy =\n",
    "    SELECT PaperFieldsOfStudy.FieldOfStudyId,\n",
    "           PaperFieldsOfStudy.PaperId,\n",
    "           PaperAuthorAffiliations.AuthorId,\n",
    "           PaperAuthorAffiliations.AffiliationId,\n",
    "           Papers.JournalId,\n",
    "           Papers.ConferenceSeriesId,\n",
    "           Papers.Year\n",
    "    FROM Papers\n",
    "         INNER JOIN\n",
    "             PaperFieldsOfStudy\n",
    "         ON Papers.PaperId == PaperFieldsOfStudy.PaperId\n",
    "         INNER JOIN\n",
    "             PaperAuthorAffiliations\n",
    "         ON Papers.PaperId == PaperAuthorAffiliations.PaperId;\n",
    "\n",
    "\n",
    "#//Get distinct affiliation, author, journal and confernece count for each field of study by year\n",
    "authorAffiliationJournalConferenceCountByYearAndFos = paperAuthorAffiliationFieldsOfStudy.groupby(\"Year\", \"FieldOfStudyId\") \\\n",
    ".agg(sf.)\n",
    "\n",
    "\n",
    "@authorAffiliationJournalConferenceCountByYearAndFos =\n",
    "    SELECT COUNT(DISTINCT AffiliationId) AS AffiliationCount,\n",
    "           COUNT(DISTINCT AuthorId) AS AuthorCount,\n",
    "           COUNT(DISTINCT JournalId) AS JournalCount,\n",
    "           COUNT(DISTINCT ConferenceSeriesId) AS ConferenceCount,\n",
    "           Year,\n",
    "           FieldOfStudyId\n",
    "    FROM @paperAuthorAffiliationFieldsOfStudy\n",
    "    GROUP BY Year,\n",
    "             FieldOfStudyId;\n",
    "\n",
    "\n",
    "# Re-format result from {FieldOfStudyId, Year, AuthorCount, AffiliationCount, JournalCount, ConferenceCount} to \n",
    "# {FieldOfStudyId, Year, Count, EntityType} for easier consumption by visual components.\n",
    "\n",
    "@entityStatsByYearAndFos =\n",
    "    SELECT FieldOfStudyId,\n",
    "           Year,\n",
    "           \"Affiliation\" AS EntityType,\n",
    "           AffiliationCount AS Count         \n",
    "    FROM @authorAffiliationJournalConferenceCountByYearAndFos\n",
    "        UNION ALL\n",
    "    SELECT FieldOfStudyId,\n",
    "           Year,\n",
    "           \"Author\" AS EntityType,\n",
    "           AuthorCount AS Count\n",
    "    FROM @authorAffiliationJournalConferenceCountByYearAndFos\n",
    "        UNION ALL\n",
    "    SELECT FieldOfStudyId,\n",
    "           Year,\n",
    "           \"Journal\" AS EntityType,\n",
    "           JournalCount AS Count\n",
    "    FROM @authorAffiliationJournalConferenceCountByYearAndFos\n",
    "         UNION ALL\n",
    "    SELECT FieldOfStudyId,\n",
    "           Year,\n",
    "           \"Conference\" AS EntityType,\n",
    "           ConferenceCount AS Count\n",
    "    FROM @authorAffiliationJournalConferenceCountByYearAndFos;\n",
    "\n",
    "\n",
    "entityStatsByYearAndFos.write.csv(outputDir + \"entityStatsByYearAndFos.csv\", mode='overwrite', header='true')"
   ]
  },
  {
   "cell_type": "code",
   "execution_count": null,
   "metadata": {},
   "outputs": [],
   "source": [
    "#//output all [FieldOfStudyId, Name] for easier lookup in visuals\n",
    "\n",
    "@fieldsOfStudy =\n",
    "    SELECT FieldOfStudyId,\n",
    "           NormalizedName AS Name\n",
    "    FROM FieldsOfStudy;\n",
    "\n",
    "\n",
    "\n",
    "fieldsOfStudy.write.csv(outputDir + \"fieldsOfStudy.csv\", mode='overwrite', header='true')"
   ]
  },
  {
   "cell_type": "code",
   "execution_count": null,
   "metadata": {},
   "outputs": [],
   "source": [
    "sc.stop()"
   ]
  }
 ],
 "metadata": {
  "kernelspec": {
   "display_name": "Python 3",
   "language": "python",
   "name": "python3"
  },
  "language_info": {
   "codemirror_mode": {
    "name": "ipython",
    "version": 3
   },
   "file_extension": ".py",
   "mimetype": "text/x-python",
   "name": "python",
   "nbconvert_exporter": "python",
   "pygments_lexer": "ipython3",
   "version": "3.7.0"
  }
 },
 "nbformat": 4,
 "nbformat_minor": 2
}
