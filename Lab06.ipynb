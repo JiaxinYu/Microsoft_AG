{
 "cells": [
  {
   "cell_type": "markdown",
   "metadata": {},
   "source": [
    "# 06. Conference Top Institutions  "
   ]
  },
  {
   "cell_type": "code",
   "execution_count": null,
   "metadata": {},
   "outputs": [],
   "source": [
    "from pyspark import SparkContext\n",
    "from pyspark.sql import SparkSession, Window\n",
    "from pyspark.sql.types import *\n",
    "import pyspark.sql.functions as sf\n",
    "\n",
    "\n",
    "rootpath = 'wasbs://mag-2018-09-27@magtrainingsource.blob.core.windows.net/mag/'\n",
    "outputDir = '/output/user99/pyspark/'\n",
    "conferenceShortName = 'WWW'\n",
    "conferenceTopInstitutionsCount = 20"
   ]
  },
  {
   "cell_type": "code",
   "execution_count": null,
   "metadata": {},
   "outputs": [],
   "source": [
    "sc = SparkContext.getOrCreate()\n",
    "spark = SparkSession(sc)"
   ]
  },
  {
   "cell_type": "code",
   "execution_count": null,
   "metadata": {},
   "outputs": [],
   "source": [
    "# First find the conference series id by matching conference short name\n",
    "targetConferenceSeriesId = spark.read.load(rootpath + \"ConferenceSeries.txt\", format=\"csv\", sep=\"\\t\") \\\n",
    ".toDF(\"ConferenceSeriesId\", \"Rank\", \"NormalizedName\", \"DisplayName\", \"PaperCount\", \n",
    "      \"CitationCount\", \"CreatedDate\") \\\n",
    ".where(sf.col(\"NormalizedName\").isin(conferenceShortName)) \\\n",
    ".select(\"ConferenceSeriesId\")\n",
    "\n",
    "\n",
    "# Get all conference papers by conference series Id.\n",
    "Papers = spark.read.load(rootpath + \"Papers.txt\", format=\"csv\", sep=\"\\t\") \\\n",
    ".toDF(\"PaperId\", \"Rank\", \"Doi\", \"DocType\", \"PaperTitle\", \"OriginalTitle\", \"BookTitle\", \n",
    "      \"Year\", \"Date\", \"Publisher\", \"JournalId\", \"ConferenceSeriesId\", \"ConferenceInstanceId\", \n",
    "      \"Volume\", \"Issue\", \"FirstPage\", \"LastPage\", \"ReferenceCount\", \"CitationCount\", \n",
    "      \"EstimatedCitationCount\", \"CreatedDate\")\n",
    "\n",
    "conferencePapers = Papers.join(targetConferenceSeriesId, \"ConferenceSeriesId\", 'inner') \\\n",
    ".select(\"PaperId\", \"CitationCount\", \"ConferenceSeriesId\")\n",
    "\n",
    "\n",
    "# Get all [paper] -> [affiliation] relationship from [paper] -> [author, affiliation]\n",
    "paperAffiliation = spark.read.load(rootpath + \"PaperAuthorAffiliations.txt\", format=\"csv\", sep=\"\\t\") \\\n",
    ".toDF(\"PaperId\", \"AuthorId\", \"AffiliationId\", \"AuthorSequenceNumber\", \"OriginalAffiliation\") \\\n",
    ".where(~sf.col(\"AffiliationId\").isna()) \\\n",
    ".select(\"PaperId\", \"AffiliationId\")\n",
    "\n",
    "\n",
    "# Get all distinct [conference paper] -> [affiliation] relationships\n",
    "conferenceAffiliationsPapers = conferencePapers.join(paperAffiliation, \"PaperId\", 'inner') \\\n",
    "\n",
    "\n",
    "\n",
    "@conferenceAffiliationsPapers =\n",
    "    SELECT ANY_VALUE(Affiliation.DisplayName) AS InstitutionName,\n",
    "           Affiliation.AffiliationId,\n",
    "           @conferencePapers.PaperId,\n",
    "           ANY_VALUE(@conferencePapers.CitationCount) AS CitationCount\n",
    "    FROM @conferencePapers\n",
    "         INNER JOIN\n",
    "             @paperAffiliation\n",
    "         ON @conferencePapers.PaperId == @paperAffiliation.PaperId\n",
    "         INNER JOIN\n",
    "             Affiliation\n",
    "         ON @paperAffiliation.AffiliationId == Affiliation.AffiliationId\n",
    "    //Each paper may have mutiple authors from the same institution.\n",
    "    //We want to have distinct [conference paper] -> [affiliation] relationships so we don't double count\n",
    "    GROUP BY @conferencePapers.PaperId, Affiliation.AffiliationId;\n",
    "\n",
    "\n",
    "# Get top institution by its all time citation count\n",
    "@conferenceTopInstitutions =\n",
    "    SELECT ANY_VALUE(@conferenceAffiliationsPapers.InstitutionName) AS InstitutionName, //Guaranteed to have only 1 value since AffiliationId is the key\n",
    "           @maDetailPagePrefix + @conferenceAffiliationsPapers.AffiliationId AS DetailsUrl,\n",
    "           COUNT( * ) AS PublicationCount,\n",
    "           SUM(@conferenceAffiliationsPapers.CitationCount) AS CitationCount\n",
    "    FROM @conferenceAffiliationsPapers\n",
    "    GROUP BY @conferenceAffiliationsPapers.AffiliationId\n",
    "    ORDER BY CitationCount DESC\n",
    "    FETCH @conferenceTopInstitutionsCount ROWS; //Only take top @conferenceTopInstitutionsCount institutions.\n",
    "\n",
    "\n",
    "# Create two ranks based on publication and citation to display on the x and y axis for comparison\n",
    "@conferenceTopInstitutions = \n",
    "    SELECT @conferenceTopInstitutions.InstitutionName,\n",
    "           @conferenceTopInstitutions.DetailsUrl,\n",
    "           @conferenceTopInstitutions.PublicationCount,\n",
    "           @conferenceTopInstitutions.CitationCount,\n",
    "           RANK() OVER(ORDER BY @conferenceTopInstitutions.CitationCount DESC) AS InstitutionCitationRank,\n",
    "           RANK() OVER(ORDER BY @conferenceTopInstitutions.PublicationCount DESC) AS InstitutionPublicationRank\n",
    "    FROM @conferenceTopInstitutions;"
   ]
  },
  {
   "cell_type": "code",
   "execution_count": null,
   "metadata": {},
   "outputs": [],
   "source": [
    "sc.stop()"
   ]
  }
 ],
 "metadata": {
  "kernelspec": {
   "display_name": "Python 3",
   "language": "python",
   "name": "python3"
  },
  "language_info": {
   "codemirror_mode": {
    "name": "ipython",
    "version": 3
   },
   "file_extension": ".py",
   "mimetype": "text/x-python",
   "name": "python",
   "nbconvert_exporter": "python",
   "pygments_lexer": "ipython3",
   "version": "3.7.0"
  }
 },
 "nbformat": 4,
 "nbformat_minor": 2
}
