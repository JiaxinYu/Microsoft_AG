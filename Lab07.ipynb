{
 "cells": [
  {
   "cell_type": "markdown",
   "metadata": {},
   "source": [
    "# 07. Conference Memory of References    "
   ]
  },
  {
   "cell_type": "code",
   "execution_count": null,
   "metadata": {},
   "outputs": [],
   "source": [
    "from pyspark import SparkContext\n",
    "from pyspark.sql import SparkSession, Window\n",
    "from pyspark.sql.types import *\n",
    "from CreateFunctions_mag import *\n",
    "import pyspark.sql.functions as sf"
   ]
  },
  {
   "cell_type": "code",
   "execution_count": null,
   "metadata": {},
   "outputs": [],
   "source": [
    "rootpath = 'wasbs://mag-2018-09-27@magtrainingsource.blob.core.windows.net/mag/'\n",
    "outputDir = '/output/jiaxin/pyspark/'\n",
    "conferenceShortName = 'WWW'"
   ]
  },
  {
   "cell_type": "code",
   "execution_count": null,
   "metadata": {},
   "outputs": [],
   "source": [
    "sc = SparkContext.getOrCreate()\n",
    "spark = SparkSession(sc)"
   ]
  },
  {
   "cell_type": "code",
   "execution_count": null,
   "metadata": {},
   "outputs": [],
   "source": [
    "# First find the conference series id by matching conference short name\n",
    "ConferenceSeries = ConferenceSeries(rootpath, spark)\n",
    "\n",
    "targetConferenceSeriesId = ConferenceSeries.where(sf.col(\"NormalizedName\").isin(conferenceShortName)) \\\n",
    ".select(\"ConferenceSeriesId\")\n",
    "\n",
    "\n",
    "# Get all conference papers by conference series Id.\n",
    "Papers = Papers(rootpath, spark)\n",
    "\n",
    "conferencePapers = Papers.join(targetConferenceSeriesId, \"ConferenceSeriesId\", 'inner') \\\n",
    ".select(\"PaperId\", \"Year\", \"CitationCount\")\n",
    "\n",
    "\n",
    "# Get all reference from [conference Paper] -> [referenced paper]\n",
    "PaperReference = PaperReferences(rootpath, spark)\n",
    "\n",
    "conferencePaperReferences = conferencePapers.join(PaperReference, \"PaperId\", 'inner')\n",
    "\n",
    "Papers1 = Papers.selectExpr(\"PaperId as ReferenceId\", \"Year as ReferenceYear\")\n",
    "\n",
    "conferencePaperReferences =  Papers1.join(conferencePaperReferences, Papers1.ReferenceId == conferencePaperReferences.PaperReferenceId, 'inner') \\\n",
    ".select(\"PaperId\", \"Year\", \"ReferenceId\", \"ReferenceYear\")\n",
    "\n",
    "\n",
    "# Aggregate reference count per conference year and reference paper year to create year matrix for reference count\n",
    "conferencePaperReferenceByYears = conferencePaperReferences.where((sf.col(\"Year\") + 1) >= (sf.col(\"ReferenceYear\"))) \\\n",
    ".groupby(\"Year\", \"ReferenceYear\") \\\n",
    ".agg(sf.count(\"*\")) \\\n",
    ".withColumnRenamed(\"count(1)\", \"ReferenceCount\")\n",
    "\n",
    "\n",
    "conferencePaperReferenceByYears.write.csv(outputDir + \"conferencePaperReferenceByYears.csv\", mode='overwrite', header='true')"
   ]
  },
  {
   "cell_type": "code",
   "execution_count": null,
   "metadata": {},
   "outputs": [],
   "source": [
    "sc.stop()"
   ]
  }
 ],
 "metadata": {
  "kernelspec": {
   "display_name": "Python 3",
   "language": "python",
   "name": "python3"
  },
  "language_info": {
   "codemirror_mode": {
    "name": "ipython",
    "version": 3
   },
   "file_extension": ".py",
   "mimetype": "text/x-python",
   "name": "python",
   "nbconvert_exporter": "python",
   "pygments_lexer": "ipython3",
   "version": "3.6.7"
  }
 },
 "nbformat": 4,
 "nbformat_minor": 2
}
