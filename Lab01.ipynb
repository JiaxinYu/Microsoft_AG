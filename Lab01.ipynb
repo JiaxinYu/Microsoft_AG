{
 "cells": [
  {
   "cell_type": "markdown",
   "metadata": {},
   "source": [
    "## 01. Field of Study Top Authors  "
   ]
  },
  {
   "cell_type": "code",
   "execution_count": null,
   "metadata": {},
   "outputs": [],
   "source": [
    "from pyspark import SparkContext\n",
    "from pyspark.sql import SparkSession\n",
    "from pyspark.sql.types import *\n",
    "from CreateFunctions_mag import *\n",
    "import pyspark.sql.functions as sf"
   ]
  },
  {
   "cell_type": "code",
   "execution_count": null,
   "metadata": {},
   "outputs": [],
   "source": [
    "rootpath = 'wasbs://mag-2018-09-27@magtrainingsource.blob.core.windows.net/mag/'\n",
    "outputDir = '/output/jiaxin/pyspark/'\n",
    "fieldName = 'computer science'\n",
    "n_top = 100"
   ]
  },
  {
   "cell_type": "markdown",
   "metadata": {},
   "source": [
    "Start Spark context"
   ]
  },
  {
   "cell_type": "code",
   "execution_count": null,
   "metadata": {},
   "outputs": [],
   "source": [
    "sc = SparkContext.getOrCreate()\n",
    "spark = SparkSession(sc)"
   ]
  },
  {
   "cell_type": "code",
   "execution_count": null,
   "metadata": {},
   "outputs": [],
   "source": [
    "FieldsOfStudy = FieldsOfStudy(rootpath, spark)\n",
    "\n",
    "targetFieldOfStudyId = FieldsOfStudy.where(sf.col(\"NormalizedName\").isin(fieldName)) \\\n",
    ".select(\"FieldOfStudyId\")\n",
    "\n",
    "\n",
    "# Get all paperIds for the field\n",
    "PaperFieldsOfStudy = PaperFieldsOfStudy(rootpath, spark)\n",
    "\n",
    "fieldPaperIds = PaperFieldsOfStudy.join(targetFieldOfStudyId, \"FieldOfStudyId\", 'inner') \\\n",
    ".select(\"PaperId\")\n",
    "\n",
    "\n",
    "# Get all [citing paper] -> [field paper] relationships\n",
    "PaperReferences = PaperReferences(rootpath, spark)\n",
    "\n",
    "PaperReferences = PaperReferences.groupby(\"PaperReferenceId\") \\\n",
    ".count() \\\n",
    ".selectExpr(\"PaperReferenceId as PaperId\", \"count as CitationCount\")\n",
    "\n",
    "\n",
    "# For each field paper, count incoming reference to get citation count\n",
    "Citation = PaperReferences.join(fieldPaperIds, \"PaperId\", 'inner')\n",
    "\n",
    "\n",
    "# Join against PaperAuthorAffiliation to get field paper -> field author relationship\n",
    "PaperAuthorAffiliations = PaperAuthorAffiliations(rootpath, spark)\n",
    "\n",
    "PublicationCount = PaperAuthorAffiliations.join(fieldPaperIds, \"PaperId\", 'inner') \\\n",
    ".groupby(\"AuthorId\") \\\n",
    ".count() \\\n",
    ".selectExpr(\"AuthorId\", \"count as PublicationCount\")\n",
    "\n",
    "CitationCount = PaperAuthorAffiliations.join(Citation, \"PaperId\", 'inner') \\\n",
    ".groupby(\"AuthorId\") \\\n",
    ".agg(sf.sum(\"CitationCount\").alias(\"CitationCount\")) \\\n",
    ".select(\"AuthorId\", \"CitationCount\")\n",
    "\n",
    "\n",
    "# Then join against Author to get detail author information\n",
    "Authors = Authors(rootpath, spark)\n",
    "\n",
    "Authors = Authors.select(\"AuthorId\", \"DisplayName\") \\\n",
    ".join(PublicationCount, \"AuthorId\", 'inner') \\\n",
    ".selectExpr(\"AuthorId\", \"DisplayName as Name\", \"PublicationCount\")\n",
    "\n",
    "\n",
    "# Aggregate over authorId to cacluate publication/ciation count for each author\n",
    "FoS_Authors = Authors.join(CitationCount, \"AuthorId\", 'inner')\\\n",
    ".select(\"Name\", \"CitationCount\", \"PublicationCount\")\n",
    "\n",
    "\n",
    "# Get top n authors by citation count\n",
    "Top_Authors = FoS_Authors.sort(sf.desc(\"PublicationCount\"), sf.desc(\"CitationCount\")) \\\n",
    ".limit(n_top)\n",
    "\n",
    "# Save results\n",
    "Top_Authors.write.csv(outputDir + 'Top_Authors.csv', mode='overwrite', header='true')"
   ]
  },
  {
   "cell_type": "markdown",
   "metadata": {},
   "source": [
    "Stop Spark context"
   ]
  },
  {
   "cell_type": "code",
   "execution_count": null,
   "metadata": {},
   "outputs": [],
   "source": [
    "sc.stop()"
   ]
  }
 ],
 "metadata": {
  "kernelspec": {
   "display_name": "Python 3",
   "language": "python",
   "name": "python3"
  },
  "language_info": {
   "codemirror_mode": {
    "name": "ipython",
    "version": 3
   },
   "file_extension": ".py",
   "mimetype": "text/x-python",
   "name": "python",
   "nbconvert_exporter": "python",
   "pygments_lexer": "ipython3",
   "version": "3.6.7"
  }
 },
 "nbformat": 4,
 "nbformat_minor": 2
}
