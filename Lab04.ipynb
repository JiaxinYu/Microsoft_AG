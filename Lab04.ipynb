{
 "cells": [
  {
   "cell_type": "markdown",
   "metadata": {},
   "source": [
    "# 04. Conference Top Papers   "
   ]
  },
  {
   "cell_type": "code",
   "execution_count": null,
   "metadata": {},
   "outputs": [],
   "source": [
    "from pyspark import SparkContext\n",
    "from pyspark.sql import SparkSession, Window\n",
    "from pyspark.sql.types import *\n",
    "import pyspark.sql.functions as sf\n",
    "\n",
    "\n",
    "rootpath = 'wasbs://mag-2018-09-27@magtrainingsource.blob.core.windows.net/mag/'\n",
    "outputDir = '/output/user99/pyspark/'\n",
    "targetConf = 'WWW'"
   ]
  },
  {
   "cell_type": "code",
   "execution_count": null,
   "metadata": {},
   "outputs": [],
   "source": [
    "# start Spark context\n",
    "sc = SparkContext.getOrCreate()\n",
    "spark = SparkSession(sc)\n",
    "\n",
    "\n",
    "# First find the conference series id by matching conference short name\n",
    "targetConferenceSeriesId = spark.read.load(rootpath + \"ConferenceSeries.txt\", format=\"csv\", sep=\"\\t\") \\\n",
    ".toDF(\"ConferenceSeriesId\", \"Rank\", \"NormalizedName\", \"DisplayName\", \"PaperCount\", \n",
    "      \"CitationCount\", \"CreatedDate\") \\\n",
    ".where(sf.col(\"NormalizedName\").isin(targetConf)) \\\n",
    ".select(\"ConferenceSeriesId\")\n",
    "\n",
    "\n",
    "# Get all conference papers by conference series Id\n",
    "conferencePapers = spark.read.load(rootpath + \"Papers.txt\", format=\"csv\", sep=\"\\t\") \\\n",
    ".toDF(\"PaperId\", \"Rank\", \"Doi\", \"DocType\", \"PaperTitle\", \"OriginalTitle\", \"BookTitle\", \n",
    "      \"Year\", \"Date\", \"Publisher\", \"JournalId\", \"ConferenceSeriesId\", \"ConferenceInstanceId\", \n",
    "      \"Volume\", \"Issue\", \"FirstPage\", \"LastPage\", \"ReferenceCount\", \"CitationCount\", \n",
    "      \"EstimatedCitationCount\", \"CreatedDate\") \\\n",
    ".join(targetConferenceSeriesId, \"ConferenceSeriesId\", 'inner') \\\n",
    ".select(\"PaperId\", \"Year\", \"CitationCount\")\n",
    "\n",
    "\n",
    "# Get all reference from [Conference Paper] -> [Referenced Paper]\n",
    "conferenceReferencedPapers = spark.read.load(rootpath + \"PaperReferences.txt\", format=\"csv\", sep=\"\\t\") \\\n",
    ".toDF(\"PaperId\", \"PaperReferenceId\") \\\n",
    ".join(conferencePapers, \"PaperId\", 'inner') \\\n",
    ".select(\"PaperId\", \"Year\", \"PaperReferenceId\")\n",
    "\n",
    "\n",
    "# Get total reference count for each year\n",
    "conferenceReferenceStats = conferenceReferencedPapers.groupby(\"Year\") \\\n",
    ".count() \\\n",
    ".selectExpr(\"Year as Year\", \"count as ReferenceCount\")\n",
    "\n",
    "\n",
    "# Get total publication/citation count for each year\n",
    "conferencePaperCitationStats = conferencePapers.groupby(\"Year\") \\\n",
    ".agg(sf.sum(\"CitationCount\").alias(\"CitationCount\")) \\\n",
    ".select(\"CitationCount\", \"Year\")\n",
    "\n",
    "conferencePaperCitationStats = conferencePapers.groupby(\"Year\") \\\n",
    ".count() \\\n",
    ".join(conferencePaperCitationStats, \"Year\", 'inner') \\\n",
    ".selectExpr(\"count as PublicationCount\", \"CitationCount as CitationCount\", \"Year as Year\")\n",
    "\n",
    "conferencePaperStats = conferencePaperCitationStats.join(conferenceReferenceStats, \"Year\") \\\n",
    ".sort(\"Year\") \\\n",
    ".selectExpr(\"Year as Year\", \"PublicationCount as PublicationCount\", \"float(CitationCount / PublicationCount) as AverageCitationCount\", \n",
    "           \"float(ReferenceCount / PublicationCount) as AverageReferenceCount\")\n",
    "# Cast to float first before division to ensure fractions are calculated correctly\n",
    "\n",
    "\n",
    "# Save results\n",
    "conferencePaperStats.write.csv(outputDir + \"conferencePaperStats.csv\", mode='overwrite', header='true')\n",
    "\n",
    "\n",
    "# Stop Spark context\n",
    "sc.stop()"
   ]
  }
 ],
 "metadata": {
  "kernelspec": {
   "display_name": "Python 3",
   "language": "python",
   "name": "python3"
  },
  "language_info": {
   "codemirror_mode": {
    "name": "ipython",
    "version": 3
   },
   "file_extension": ".py",
   "mimetype": "text/x-python",
   "name": "python",
   "nbconvert_exporter": "python",
   "pygments_lexer": "ipython3",
   "version": "3.7.0"
  }
 },
 "nbformat": 4,
 "nbformat_minor": 2
}
