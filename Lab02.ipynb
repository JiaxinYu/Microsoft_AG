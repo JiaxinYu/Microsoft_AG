{
 "cells": [
  {
   "cell_type": "markdown",
   "metadata": {},
   "source": [
    "# 02. Conference Top Authors By Static Rank    \n",
    "1. Aggregate static rank and publication for each author  \n",
    "1. Create two ranks based on different methods to display on the x and y axis for comparison  "
   ]
  },
  {
   "cell_type": "code",
   "execution_count": null,
   "metadata": {},
   "outputs": [],
   "source": [
    "from pyspark import SparkContext\n",
    "from pyspark.sql import SparkSession\n",
    "from pyspark.sql.types import *\n",
    "import pyspark.sql.functions as sf\n",
    "\n",
    "\n",
    "rootpath = 'wasbs://mag-2018-09-27@magtrainingsource.blob.core.windows.net/mag/'\n",
    "outputDir = '~/output/pyspark/'\n",
    "targetConf = 'WWW'\n",
    "n_top = 20"
   ]
  },
  {
   "cell_type": "code",
   "execution_count": null,
   "metadata": {},
   "outputs": [],
   "source": [
    "# start Spark context\n",
    "sc = SparkContext.getOrCreate()\n",
    "spark = SparkSession(sc)\n",
    "\n",
    "\n",
    "# First find the conference series id by matching conference short name\n",
    "ConferenceSeries = spark.read.load(rootpath + \"ConferenceSeries.txt\", format=\"csv\", sep=\"\\t\") \\\n",
    ".toDF(\"ConferenceSeriesId\", \"Rank\", \"NormalizedName\", \"DisplayName\", \"PaperCount\", \n",
    "      \"CitationCount\", \"CreatedDate\") \\\n",
    ".where(sf.col(\"NormalizedName\").isin(targetConf)) \\\n",
    ".select(\"ConferenceSeriesId\")\n",
    "\n",
    "\n",
    "# Get all conference papers by conference series Id\n",
    "Papers = spark.read.load(rootpath + \"Papers.txt\", format=\"csv\", sep=\"\\t\") \\\n",
    ".toDF(\"PaperId\", \"Rank\", \"Doi\", \"DocType\", \"PaperTitle\", \"OriginalTitle\", \"BookTitle\", \n",
    "      \"Year\", \"Date\", \"Publisher\", \"JournalId\", \"ConferenceSeriesId\", \"ConferenceInstanceId\", \n",
    "      \"Volume\", \"Issue\", \"FirstPage\", \"LastPage\", \"ReferenceCount\", \"CitationCount\", \n",
    "      \"EstimatedCitationCount\", \"CreatedDate\") \\\n",
    ".join(ConferenceSeries, \"ConferenceSeriesId\", 'inner') \\\n",
    ".selectExpr(\"PaperId as PaperId\", \"Rank * -0.001 as LogProbRank\")\n",
    "\n",
    "\n",
    "# Get all [conference paper] -> [conference author] relationships\n",
    "Conf_Authors = spark.read.load(rootpath + \"PaperAuthorAffiliations.txt\", format=\"csv\", sep=\"\\t\") \\\n",
    ".toDF(\"PaperId\", \"AuthorId\", \"AffiliationId\", \"AuthorSequenceNumber\", \"OriginalAffiliation\") \\\n",
    ".join(Papers, \"PaperId\", 'inner') \\\n",
    ".select(\"AuthorId\", \"LogProbRank\")\n",
    "\n",
    "\n",
    "# Aggregate static rank and publication for each author\n",
    "Authors = spark.read.load(rootpath + \"Authors.txt\", format=\"csv\", sep=\"\\t\") \\\n",
    ".toDF(\"AuthorId\", \"Rank\", \"NormalizedName\", \"DisplayName\", \"LastKnownAffiliationId\", \n",
    "      \"PaperCount\", \"CitationCount\", \"CreatedDate\") \\\n",
    ".join(Conf_Authors, \"AuthorId\", 'inner') \\\n",
    ".groupby(\"DisplayName\") \\\n",
    ".agg(sf.sum(\"LogProbRank\").alias(\"LogProbRank\")) \\\n",
    ".select(\"DisplayName\", \"LogProbRank\")\n",
    "\n",
    "PublicationCounts = Authors.groupby(\"DisplayName\") \\\n",
    ".count() \\\n",
    ".selectExpr(\"DisplayName as DisplayName\", \"count as PublicationCount\")\n",
    "\n",
    "Authors = Authors.join(PublicationCounts, \"DisplayName\", 'inner')\n",
    "\n",
    "\n",
    "# Create two ranks based on different methods to display on the x and y axis for comparison\n",
    "Conf_TopAuthors = Authors\n",
    "\n",
    "\n",
    "# Stop Spark context\n",
    "sc.stop()"
   ]
  }
 ],
 "metadata": {
  "kernelspec": {
   "display_name": "Python 3",
   "language": "python",
   "name": "python3"
  },
  "language_info": {
   "codemirror_mode": {
    "name": "ipython",
    "version": 3
   },
   "file_extension": ".py",
   "mimetype": "text/x-python",
   "name": "python",
   "nbconvert_exporter": "python",
   "pygments_lexer": "ipython3",
   "version": "3.7.0"
  }
 },
 "nbformat": 4,
 "nbformat_minor": 2
}
